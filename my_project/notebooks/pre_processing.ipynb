{
 "cells": [
  {
   "cell_type": "markdown",
   "metadata": {},
   "source": [
    "### 1. Purpose of this notebook\n",
    "\n",
    "The purpose of this notebook is to pre process the data, including removing the data not necessary for the analysis, inclusion of new data and some dtypes transformations."
   ]
  },
  {
   "cell_type": "markdown",
   "metadata": {},
   "source": [
    "### 2. Read data"
   ]
  },
  {
   "cell_type": "markdown",
   "metadata": {},
   "source": [
    "#### 2.1 Import Python packages"
   ]
  },
  {
   "cell_type": "code",
   "execution_count": 1,
   "metadata": {},
   "outputs": [],
   "source": [
    "import pandas as pd\n",
    "import datetime\n",
    "\n",
    "from src.paths import DATA"
   ]
  },
  {
   "cell_type": "code",
   "execution_count": 140,
   "metadata": {},
   "outputs": [],
   "source": [
    "df = pd.read_csv(DATA / 'ml_project1_data_cleaned.csv')\n",
    "\n",
    "df = (df.assign(Dt_Customer = pd.to_datetime(df['Dt_Customer'])))"
   ]
  },
  {
   "cell_type": "markdown",
   "metadata": {},
   "source": [
    "### 3. New columns"
   ]
  },
  {
   "cell_type": "markdown",
   "metadata": {},
   "source": [
    "For our analysis, we need some new columns:\n",
    "\n",
    "- The age for each customer.\n",
    "- The total amount spent in the last two years.\n",
    "- The total number of purchases in the three channels in the last two years.\n",
    "- The total of accepteds the offer in the first five campaigns.\n",
    "- The total of accepteds the offer in the first five campaigns and the pilot campaigns.\n",
    "- The total of year after registration.\n",
    "- The total children."
   ]
  },
  {
   "cell_type": "markdown",
   "metadata": {},
   "source": [
    "#### Age"
   ]
  },
  {
   "cell_type": "code",
   "execution_count": 141,
   "metadata": {},
   "outputs": [],
   "source": [
    "current_year = datetime.date.today().year\n",
    "\n",
    "df = (df\n",
    "      .assign(Age = current_year - df['Year_Birth'])\n",
    "     )"
   ]
  },
  {
   "cell_type": "markdown",
   "metadata": {},
   "source": [
    "#### Total amount spent"
   ]
  },
  {
   "cell_type": "code",
   "execution_count": 142,
   "metadata": {},
   "outputs": [],
   "source": [
    "df = (df\n",
    "      .assign(MntTotal = df[['MntWines', 'MntFruits','MntMeatProducts',\n",
    "                              'MntFishProducts', 'MntSweetProducts']]\n",
    "                          .sum(axis=1))\n",
    "     )"
   ]
  },
  {
   "cell_type": "markdown",
   "metadata": {},
   "source": [
    "#### Total purchases"
   ]
  },
  {
   "cell_type": "code",
   "execution_count": 143,
   "metadata": {},
   "outputs": [],
   "source": [
    "df = (df\n",
    "      .assign(NumTotalPurchases = df[['NumWebPurchases','NumCatalogPurchases',\n",
    "                                     'NumStorePurchases',]]\n",
    "                                  .sum(axis=1))\n",
    "     )"
   ]
  },
  {
   "cell_type": "markdown",
   "metadata": {},
   "source": [
    "#### Total accepted in the first five campaigns"
   ]
  },
  {
   "cell_type": "code",
   "execution_count": 144,
   "metadata": {},
   "outputs": [],
   "source": [
    "df = (df\n",
    "      .assign(AcceptedTotalFirstFiveCmps = df[['AcceptedCmp3', 'AcceptedCmp4', \n",
    "                                               'AcceptedCmp5', 'AcceptedCmp1', 'AcceptedCmp2']]\n",
    "                                          .sum(axis=1))\n",
    "     )"
   ]
  },
  {
   "cell_type": "markdown",
   "metadata": {},
   "source": [
    "#### Total accepted in the first five campaigns + pilot campaign "
   ]
  },
  {
   "cell_type": "code",
   "execution_count": 145,
   "metadata": {},
   "outputs": [],
   "source": [
    "df = (df\n",
    "      .assign(AcceptedTotalFirstFiveCmpsMorePilot = df[['AcceptedTotalFirstFiveCmps', 'Response']]\n",
    "                          .sum(axis=1))\n",
    "     )"
   ]
  },
  {
   "cell_type": "markdown",
   "metadata": {},
   "source": [
    "#### Total year after registration"
   ]
  },
  {
   "cell_type": "code",
   "execution_count": 146,
   "metadata": {},
   "outputs": [],
   "source": [
    "df = (df\n",
    "      .assign(TotalYearAfterRegistration = current_year - df.Dt_Customer.dt.year)\n",
    "     )"
   ]
  },
  {
   "cell_type": "markdown",
   "metadata": {},
   "source": [
    "#### Total of childrens"
   ]
  },
  {
   "cell_type": "code",
   "execution_count": 147,
   "metadata": {},
   "outputs": [],
   "source": [
    "df = (df\n",
    "      .assign(TotalChildren = df['Kidhome'] + df['Teenhome'])\n",
    "     )"
   ]
  },
  {
   "cell_type": "markdown",
   "metadata": {},
   "source": [
    "### 4. Remove columns\n",
    "\n",
    "- The column Z_Revenue is wrong. All the rows containing the same valor: 11. We know that the sucess of the oilot campaign was 15%, not 100%. We created a new column to fix it."
   ]
  },
  {
   "cell_type": "markdown",
   "metadata": {},
   "source": [
    "#### Z_Revenue"
   ]
  },
  {
   "cell_type": "code",
   "execution_count": 148,
   "metadata": {},
   "outputs": [],
   "source": [
    "df = df.drop(columns='Z_Revenue')"
   ]
  },
  {
   "cell_type": "markdown",
   "metadata": {},
   "source": [
    "### 5. Data transformation"
   ]
  },
  {
   "cell_type": "code",
   "execution_count": 149,
   "metadata": {},
   "outputs": [],
   "source": [
    "columns = ['AcceptedCmp3', 'AcceptedCmp4', 'AcceptedCmp5', 'AcceptedCmp1',\n",
    "           'AcceptedCmp2', 'Complain', 'Response']\n",
    "\n",
    "df[columns] = df[columns].astype(bool)"
   ]
  },
  {
   "cell_type": "code",
   "execution_count": 150,
   "metadata": {},
   "outputs": [],
   "source": [
    "df.to_csv(DATA / 'ml_project1_data_pre_processed.csv', index=False)"
   ]
  }
 ],
 "metadata": {
  "kernelspec": {
   "display_name": "ifood-test",
   "language": "python",
   "name": "ifood-test"
  },
  "language_info": {
   "codemirror_mode": {
    "name": "ipython",
    "version": 3
   },
   "file_extension": ".py",
   "mimetype": "text/x-python",
   "name": "python",
   "nbconvert_exporter": "python",
   "pygments_lexer": "ipython3",
   "version": "3.6.5"
  }
 },
 "nbformat": 4,
 "nbformat_minor": 2
}
