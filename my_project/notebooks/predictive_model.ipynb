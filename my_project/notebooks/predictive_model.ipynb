{
 "cells": [
  {
   "cell_type": "markdown",
   "metadata": {},
   "source": [
    "### 1. Purpose of this notebook\n",
    "\n",
    "The purpose of this notebook is to create a predictive model to classify customers and allow the company to maximize profit from the next marketing campaign.\n",
    "\n",
    "> Predictive model \n",
    "- We used two models to try to predict the classification, decision tree and logistic regression. Logistic regression proved to be better, being more accurate in the true positives.\n",
    "\n",
    "> Predictor variables\n",
    "- We chose the predictor variables from the exploratory analysis (EDA) and after several tests.\n",
    "\n",
    "> Model's metrics\n",
    "- We adopted AUC as the main metric for the model. In our case, in which we have an imbalance of results (more True than False), it is more important to us\n",
    "consider the consumer to be false when it is true, than to consider it to be true when it is false (thus preventing further loss of investment). Although the AUC of the logistic regression was around 0.81, in the executions we made there was a variation of about 0.1 (0.73 - 0.83).\n",
    "\n",
    "#### Results\n",
    "\n",
    "With the logistic regression model we can predict which customers are most probability to buy the gadget. However, by favoring a better success rate, we have a smaller number of customers.\n",
    "\n",
    "We made a suggestion of an approach where we not only take into account the success rate, but the profit. We built a table where, based on the results of the model, we can define an acceptable probability (for example, 30%). Thus, for customers with more than 30% probability of buying the gadget, we will carry out the campaign. This allows us to send the campaign to more customers generating more cost, but also allowing for greater revenue."
   ]
  },
  {
   "cell_type": "markdown",
   "metadata": {},
   "source": [
    "### 2. Read data"
   ]
  },
  {
   "cell_type": "markdown",
   "metadata": {},
   "source": [
    "#### 2.1 Import Python packages"
   ]
  },
  {
   "cell_type": "code",
   "execution_count": 1,
   "metadata": {},
   "outputs": [],
   "source": [
    "import pandas as pd\n",
    "import numpy as np\n",
    "from sklearn.tree import DecisionTreeClassifier,export_graphviz\n",
    "from sklearn.linear_model import LogisticRegression\n",
    "from sklearn.model_selection import train_test_split\n",
    "from sklearn import metrics\n",
    "import seaborn as sns\n",
    "import matplotlib.pyplot as plt\n",
    "\n",
    "from src.paths import DATA\n",
    "import src.eda as eda\n",
    "\n",
    "%matplotlib inline\n",
    "plt.style.use('bmh')\n",
    "%load_ext autoreload\n",
    "%autoreload 2"
   ]
  },
  {
   "cell_type": "code",
   "execution_count": 51,
   "metadata": {},
   "outputs": [
    {
     "data": {
      "text/html": [
       "<div>\n",
       "<style scoped>\n",
       "    .dataframe tbody tr th:only-of-type {\n",
       "        vertical-align: middle;\n",
       "    }\n",
       "\n",
       "    .dataframe tbody tr th {\n",
       "        vertical-align: top;\n",
       "    }\n",
       "\n",
       "    .dataframe thead th {\n",
       "        text-align: right;\n",
       "    }\n",
       "</style>\n",
       "<table border=\"1\" class=\"dataframe\">\n",
       "  <thead>\n",
       "    <tr style=\"text-align: right;\">\n",
       "      <th></th>\n",
       "      <th>ID</th>\n",
       "      <th>Year_Birth</th>\n",
       "      <th>Education</th>\n",
       "      <th>Marital_Status</th>\n",
       "      <th>Income</th>\n",
       "      <th>Kidhome</th>\n",
       "      <th>Teenhome</th>\n",
       "      <th>Dt_Customer</th>\n",
       "      <th>Recency</th>\n",
       "      <th>MntWines</th>\n",
       "      <th>...</th>\n",
       "      <th>Education_Master</th>\n",
       "      <th>Education_PhD</th>\n",
       "      <th>Marital_Status_Absurd</th>\n",
       "      <th>Marital_Status_Alone</th>\n",
       "      <th>Marital_Status_Divorced</th>\n",
       "      <th>Marital_Status_Married</th>\n",
       "      <th>Marital_Status_Single</th>\n",
       "      <th>Marital_Status_Together</th>\n",
       "      <th>Marital_Status_Widow</th>\n",
       "      <th>Marital_Status_YOLO</th>\n",
       "    </tr>\n",
       "  </thead>\n",
       "  <tbody>\n",
       "    <tr>\n",
       "      <th>0</th>\n",
       "      <td>5524</td>\n",
       "      <td>1957</td>\n",
       "      <td>Graduation</td>\n",
       "      <td>Single</td>\n",
       "      <td>58138.0</td>\n",
       "      <td>0</td>\n",
       "      <td>0</td>\n",
       "      <td>2012-09-04</td>\n",
       "      <td>58</td>\n",
       "      <td>635</td>\n",
       "      <td>...</td>\n",
       "      <td>0</td>\n",
       "      <td>0</td>\n",
       "      <td>0</td>\n",
       "      <td>0</td>\n",
       "      <td>0</td>\n",
       "      <td>0</td>\n",
       "      <td>1</td>\n",
       "      <td>0</td>\n",
       "      <td>0</td>\n",
       "      <td>0</td>\n",
       "    </tr>\n",
       "    <tr>\n",
       "      <th>1</th>\n",
       "      <td>2174</td>\n",
       "      <td>1954</td>\n",
       "      <td>Graduation</td>\n",
       "      <td>Single</td>\n",
       "      <td>46344.0</td>\n",
       "      <td>1</td>\n",
       "      <td>1</td>\n",
       "      <td>2014-03-08</td>\n",
       "      <td>38</td>\n",
       "      <td>11</td>\n",
       "      <td>...</td>\n",
       "      <td>0</td>\n",
       "      <td>0</td>\n",
       "      <td>0</td>\n",
       "      <td>0</td>\n",
       "      <td>0</td>\n",
       "      <td>0</td>\n",
       "      <td>1</td>\n",
       "      <td>0</td>\n",
       "      <td>0</td>\n",
       "      <td>0</td>\n",
       "    </tr>\n",
       "    <tr>\n",
       "      <th>2</th>\n",
       "      <td>4141</td>\n",
       "      <td>1965</td>\n",
       "      <td>Graduation</td>\n",
       "      <td>Together</td>\n",
       "      <td>71613.0</td>\n",
       "      <td>0</td>\n",
       "      <td>0</td>\n",
       "      <td>2013-08-21</td>\n",
       "      <td>26</td>\n",
       "      <td>426</td>\n",
       "      <td>...</td>\n",
       "      <td>0</td>\n",
       "      <td>0</td>\n",
       "      <td>0</td>\n",
       "      <td>0</td>\n",
       "      <td>0</td>\n",
       "      <td>0</td>\n",
       "      <td>0</td>\n",
       "      <td>1</td>\n",
       "      <td>0</td>\n",
       "      <td>0</td>\n",
       "    </tr>\n",
       "    <tr>\n",
       "      <th>3</th>\n",
       "      <td>6182</td>\n",
       "      <td>1984</td>\n",
       "      <td>Graduation</td>\n",
       "      <td>Together</td>\n",
       "      <td>26646.0</td>\n",
       "      <td>1</td>\n",
       "      <td>0</td>\n",
       "      <td>2014-02-10</td>\n",
       "      <td>26</td>\n",
       "      <td>11</td>\n",
       "      <td>...</td>\n",
       "      <td>0</td>\n",
       "      <td>0</td>\n",
       "      <td>0</td>\n",
       "      <td>0</td>\n",
       "      <td>0</td>\n",
       "      <td>0</td>\n",
       "      <td>0</td>\n",
       "      <td>1</td>\n",
       "      <td>0</td>\n",
       "      <td>0</td>\n",
       "    </tr>\n",
       "    <tr>\n",
       "      <th>4</th>\n",
       "      <td>5324</td>\n",
       "      <td>1981</td>\n",
       "      <td>PhD</td>\n",
       "      <td>Married</td>\n",
       "      <td>58293.0</td>\n",
       "      <td>1</td>\n",
       "      <td>0</td>\n",
       "      <td>2014-01-19</td>\n",
       "      <td>94</td>\n",
       "      <td>173</td>\n",
       "      <td>...</td>\n",
       "      <td>0</td>\n",
       "      <td>1</td>\n",
       "      <td>0</td>\n",
       "      <td>0</td>\n",
       "      <td>0</td>\n",
       "      <td>1</td>\n",
       "      <td>0</td>\n",
       "      <td>0</td>\n",
       "      <td>0</td>\n",
       "      <td>0</td>\n",
       "    </tr>\n",
       "  </tbody>\n",
       "</table>\n",
       "<p>5 rows × 49 columns</p>\n",
       "</div>"
      ],
      "text/plain": [
       "     ID  Year_Birth   Education Marital_Status   Income  Kidhome  Teenhome  \\\n",
       "0  5524        1957  Graduation         Single  58138.0        0         0   \n",
       "1  2174        1954  Graduation         Single  46344.0        1         1   \n",
       "2  4141        1965  Graduation       Together  71613.0        0         0   \n",
       "3  6182        1984  Graduation       Together  26646.0        1         0   \n",
       "4  5324        1981         PhD        Married  58293.0        1         0   \n",
       "\n",
       "  Dt_Customer  Recency  MntWines         ...           Education_Master  \\\n",
       "0  2012-09-04       58       635         ...                          0   \n",
       "1  2014-03-08       38        11         ...                          0   \n",
       "2  2013-08-21       26       426         ...                          0   \n",
       "3  2014-02-10       26        11         ...                          0   \n",
       "4  2014-01-19       94       173         ...                          0   \n",
       "\n",
       "   Education_PhD  Marital_Status_Absurd  Marital_Status_Alone  \\\n",
       "0              0                      0                     0   \n",
       "1              0                      0                     0   \n",
       "2              0                      0                     0   \n",
       "3              0                      0                     0   \n",
       "4              1                      0                     0   \n",
       "\n",
       "   Marital_Status_Divorced  Marital_Status_Married  Marital_Status_Single  \\\n",
       "0                        0                       0                      1   \n",
       "1                        0                       0                      1   \n",
       "2                        0                       0                      0   \n",
       "3                        0                       0                      0   \n",
       "4                        0                       1                      0   \n",
       "\n",
       "   Marital_Status_Together  Marital_Status_Widow  Marital_Status_YOLO  \n",
       "0                        0                     0                    0  \n",
       "1                        0                     0                    0  \n",
       "2                        1                     0                    0  \n",
       "3                        1                     0                    0  \n",
       "4                        0                     0                    0  \n",
       "\n",
       "[5 rows x 49 columns]"
      ]
     },
     "execution_count": 51,
     "metadata": {},
     "output_type": "execute_result"
    }
   ],
   "source": [
    "df = pd.read_csv(DATA / 'ml_project1_data_pre_processed.csv')\n",
    "\n",
    "#Transform to dummy columns\n",
    "df_dummy_columns = pd.get_dummies(df[['Education','Marital_Status']])\n",
    "df = pd.concat([df,df_dummy_columns], axis=1)\n",
    "\n",
    "#removed outliers\n",
    "df = df.query(\"Income < 118000\")\n",
    "df = df[df.Income.notnull()]\n",
    "df.head()"
   ]
  },
  {
   "cell_type": "markdown",
   "metadata": {},
   "source": [
    "### 3. Predictive model"
   ]
  },
  {
   "cell_type": "code",
   "execution_count": 52,
   "metadata": {},
   "outputs": [
    {
     "data": {
      "text/plain": [
       "Index(['ID', 'Year_Birth', 'Education', 'Marital_Status', 'Income', 'Kidhome',\n",
       "       'Teenhome', 'Dt_Customer', 'Recency', 'MntWines', 'MntFruits',\n",
       "       'MntMeatProducts', 'MntFishProducts', 'MntSweetProducts',\n",
       "       'MntGoldProds', 'NumDealsPurchases', 'NumWebPurchases',\n",
       "       'NumCatalogPurchases', 'NumStorePurchases', 'NumWebVisitsMonth',\n",
       "       'AcceptedCmp3', 'AcceptedCmp4', 'AcceptedCmp5', 'AcceptedCmp1',\n",
       "       'AcceptedCmp2', 'Complain', 'Z_CostContact', 'Response',\n",
       "       'Z_Revenue_correct', 'Age', 'MntTotal', 'NumTotalPurchases',\n",
       "       'AcceptedTotalFirstFiveCmps', 'AcceptedTotalFirstFiveCmpsMorePilot',\n",
       "       'TotalYearAfterRegistration', 'TotalChildren', 'Education_2n Cycle',\n",
       "       'Education_Basic', 'Education_Graduation', 'Education_Master',\n",
       "       'Education_PhD', 'Marital_Status_Absurd', 'Marital_Status_Alone',\n",
       "       'Marital_Status_Divorced', 'Marital_Status_Married',\n",
       "       'Marital_Status_Single', 'Marital_Status_Together',\n",
       "       'Marital_Status_Widow', 'Marital_Status_YOLO'],\n",
       "      dtype='object')"
      ]
     },
     "execution_count": 52,
     "metadata": {},
     "output_type": "execute_result"
    }
   ],
   "source": [
    "df.columns"
   ]
  },
  {
   "cell_type": "markdown",
   "metadata": {},
   "source": [
    "#### 3.1 Customer behaviors used"
   ]
  },
  {
   "cell_type": "markdown",
   "metadata": {},
   "source": [
    "We chose these products based on exploratory data analysis and tests performed here."
   ]
  },
  {
   "cell_type": "code",
   "execution_count": 53,
   "metadata": {},
   "outputs": [],
   "source": [
    "columns =['Recency', 'MntTotal', 'Income', 'Response','Education_2n Cycle',\n",
    "       'Education_Master',\n",
    "       'Education_PhD', 'Marital_Status_Divorced', 'Marital_Status_Married',\n",
    "       'Marital_Status_Single',\n",
    "       'AcceptedTotalFirstFiveCmps']\n",
    "\n",
    "df_train = df[columns]"
   ]
  },
  {
   "cell_type": "code",
   "execution_count": 54,
   "metadata": {},
   "outputs": [],
   "source": [
    "#Define train dataset\n",
    "X_train, X_test, y_train, y_test = train_test_split(df_train.drop('Response',axis=1), df_train['Response'],test_size=0.3)"
   ]
  },
  {
   "cell_type": "code",
   "execution_count": 55,
   "metadata": {},
   "outputs": [
    {
     "data": {
      "text/plain": [
       "[(1542, 10), (661, 10), (1542,), (661,)]"
      ]
     },
     "execution_count": 55,
     "metadata": {},
     "output_type": "execute_result"
    }
   ],
   "source": [
    "#size of datasets\n",
    "[X_train.shape, X_test.shape,\n",
    "y_train.shape, y_test.shape]"
   ]
  },
  {
   "cell_type": "markdown",
   "metadata": {},
   "source": [
    "#### 3.2 Definition of the best model"
   ]
  },
  {
   "cell_type": "markdown",
   "metadata": {},
   "source": [
    "#### 3.2.1 Decision Tree"
   ]
  },
  {
   "cell_type": "code",
   "execution_count": 56,
   "metadata": {},
   "outputs": [],
   "source": [
    "model1 = DecisionTreeClassifier()\n",
    "model1 = model1.fit(X_train,y_train)"
   ]
  },
  {
   "cell_type": "code",
   "execution_count": 57,
   "metadata": {},
   "outputs": [
    {
     "name": "stdout",
     "output_type": "stream",
     "text": [
      "ID:0.216\n",
      "Year_Birth:0.230\n",
      "Education:0.223\n",
      "Marital_Status:0.008\n",
      "Income:0.019\n",
      "Kidhome:0.018\n",
      "Teenhome:0.016\n",
      "Dt_Customer:0.019\n",
      "Recency:0.047\n",
      "MntWines:0.204\n"
     ]
    }
   ],
   "source": [
    "for feature, importancies in zip(df.drop('Response',axis=1), model1.feature_importances_):\n",
    "    print(f\"{feature}:{importancies:.3f}\")"
   ]
  },
  {
   "cell_type": "code",
   "execution_count": 58,
   "metadata": {},
   "outputs": [
    {
     "name": "stdout",
     "output_type": "stream",
     "text": [
      "              precision    recall  f1-score   support\n",
      "\n",
      "       False       0.91      0.90      0.90       566\n",
      "        True       0.44      0.47      0.45        95\n",
      "\n",
      "    accuracy                           0.84       661\n",
      "   macro avg       0.67      0.69      0.68       661\n",
      "weighted avg       0.84      0.84      0.84       661\n",
      "\n"
     ]
    }
   ],
   "source": [
    "results_decision_tree = model1.predict(X_test)\n",
    "print(metrics.classification_report(y_test, results_decision_tree))"
   ]
  },
  {
   "cell_type": "code",
   "execution_count": 59,
   "metadata": {},
   "outputs": [
    {
     "data": {
      "text/plain": [
       "array([[508,  58],\n",
       "       [ 50,  45]], dtype=int64)"
      ]
     },
     "execution_count": 59,
     "metadata": {},
     "output_type": "execute_result"
    }
   ],
   "source": [
    "decision_tree_matrix = metrics.confusion_matrix(y_test, results_decision_tree)\n",
    "decision_tree_matrix"
   ]
  },
  {
   "cell_type": "code",
   "execution_count": 60,
   "metadata": {},
   "outputs": [
    {
     "data": {
      "image/png": "[encoded data removed]",
      "text/plain": [
       "<Figure size 432x288 with 1 Axes>"
      ]
     },
     "metadata": {
      "needs_background": "light"
     },
     "output_type": "display_data"
    }
   ],
   "source": [
    "y_pred_proba = model1.predict_proba(X_test)[::,1]\n",
    "fpr, tpr, _ = metrics.roc_curve(y_test,  y_pred_proba)\n",
    "auc = metrics.roc_auc_score(y_test, y_pred_proba)\n",
    "plt.plot(fpr, tpr, label=f\"data 1, auc= {auc:.3f}\")\n",
    "plt.legend(loc=4)\n",
    "plt.show()"
   ]
  },
  {
   "cell_type": "markdown",
   "metadata": {},
   "source": [
    "The AUC value does not look very good and the precision in hitting true positives was below 0.50."
   ]
  },
  {
   "cell_type": "markdown",
   "metadata": {},
   "source": [
    "#### 3.2.2 Logistic Regression"
   ]
  },
  {
   "cell_type": "code",
   "execution_count": 61,
   "metadata": {},
   "outputs": [
    {
     "data": {
      "text/plain": [
       "LogisticRegression()"
      ]
     },
     "execution_count": 61,
     "metadata": {},
     "output_type": "execute_result"
    }
   ],
   "source": [
    "logreg = LogisticRegression()\n",
    "logreg.fit(X_train, y_train)"
   ]
  },
  {
   "cell_type": "code",
   "execution_count": 62,
   "metadata": {},
   "outputs": [
    {
     "name": "stdout",
     "output_type": "stream",
     "text": [
      "Accuracy of logistic regression classifier on test set: 0.88\n"
     ]
    }
   ],
   "source": [
    "results_logistic_regression = logreg.predict(X_test)\n",
    "print('Accuracy of logistic regression classifier on test set: {:.2f}'.format(logreg.score(X_test, y_test)))"
   ]
  },
  {
   "cell_type": "code",
   "execution_count": 63,
   "metadata": {},
   "outputs": [
    {
     "name": "stdout",
     "output_type": "stream",
     "text": [
      "              precision    recall  f1-score   support\n",
      "\n",
      "       False       0.90      0.97      0.93       566\n",
      "        True       0.67      0.35      0.46        95\n",
      "\n",
      "    accuracy                           0.88       661\n",
      "   macro avg       0.79      0.66      0.70       661\n",
      "weighted avg       0.87      0.88      0.87       661\n",
      "\n"
     ]
    }
   ],
   "source": [
    "print(metrics.classification_report(y_test, results_logistic_regression))"
   ]
  },
  {
   "cell_type": "code",
   "execution_count": 64,
   "metadata": {},
   "outputs": [
    {
     "data": {
      "text/plain": [
       "array([[550,  16],\n",
       "       [ 62,  33]], dtype=int64)"
      ]
     },
     "execution_count": 64,
     "metadata": {},
     "output_type": "execute_result"
    }
   ],
   "source": [
    "logistic_regression_matrix = metrics.confusion_matrix(y_test, results_logistic_regression)\n",
    "logistic_regression_matrix"
   ]
  },
  {
   "cell_type": "code",
   "execution_count": 65,
   "metadata": {},
   "outputs": [
    {
     "name": "stdout",
     "output_type": "stream",
     "text": [
      "Accuracy: 0.88\n",
      "Precision: 0.67\n",
      "Recall: 0.35\n"
     ]
    }
   ],
   "source": [
    "print(\"Accuracy:\", metrics.accuracy_score(y_test, results_logistic_regression).round(2))\n",
    "print(\"Precision:\", metrics.precision_score(y_test, results_logistic_regression).round(2))\n",
    "print(\"Recall:\", metrics.recall_score(y_test, results_logistic_regression).round(2))"
   ]
  },
  {
   "cell_type": "code",
   "execution_count": 66,
   "metadata": {},
   "outputs": [
    {
     "data": {
      "image/png": "[encoded data removed]",
      "text/plain": [
       "<Figure size 432x288 with 1 Axes>"
      ]
     },
     "metadata": {
      "needs_background": "light"
     },
     "output_type": "display_data"
    }
   ],
   "source": [
    "y_pred_proba = logreg.predict_proba(X_test)[::,1]\n",
    "fpr, tpr, _ = metrics.roc_curve(y_test,  y_pred_proba)\n",
    "auc = metrics.roc_auc_score(y_test, y_pred_proba)\n",
    "plt.plot(fpr,tpr,label=f\"data 1, auc= {auc:.3f}\")\n",
    "plt.legend(loc=4)\n",
    "plt.show()"
   ]
  },
  {
   "cell_type": "markdown",
   "metadata": {},
   "source": [
    "The AUC value proved to be much better than in the decision tree. In addition, the accuracy in true positives was 0.72."
   ]
  },
  {
   "cell_type": "markdown",
   "metadata": {},
   "source": [
    "### 4. Applying the model"
   ]
  },
  {
   "cell_type": "markdown",
   "metadata": {},
   "source": [
    "Applying the model to the dataset we have, we obtain the following results:"
   ]
  },
  {
   "cell_type": "code",
   "execution_count": 67,
   "metadata": {},
   "outputs": [
    {
     "data": {
      "text/html": [
       "<div>\n",
       "<style scoped>\n",
       "    .dataframe tbody tr th:only-of-type {\n",
       "        vertical-align: middle;\n",
       "    }\n",
       "\n",
       "    .dataframe tbody tr th {\n",
       "        vertical-align: top;\n",
       "    }\n",
       "\n",
       "    .dataframe thead th {\n",
       "        text-align: right;\n",
       "    }\n",
       "</style>\n",
       "<table border=\"1\" class=\"dataframe\">\n",
       "  <thead>\n",
       "    <tr style=\"text-align: right;\">\n",
       "      <th></th>\n",
       "      <th>ID</th>\n",
       "      <th>Year_Birth</th>\n",
       "      <th>Education</th>\n",
       "      <th>Marital_Status</th>\n",
       "      <th>Income</th>\n",
       "      <th>Kidhome</th>\n",
       "      <th>Teenhome</th>\n",
       "      <th>Dt_Customer</th>\n",
       "      <th>Recency</th>\n",
       "      <th>MntWines</th>\n",
       "      <th>...</th>\n",
       "      <th>Marital_Status_Absurd</th>\n",
       "      <th>Marital_Status_Alone</th>\n",
       "      <th>Marital_Status_Divorced</th>\n",
       "      <th>Marital_Status_Married</th>\n",
       "      <th>Marital_Status_Single</th>\n",
       "      <th>Marital_Status_Together</th>\n",
       "      <th>Marital_Status_Widow</th>\n",
       "      <th>Marital_Status_YOLO</th>\n",
       "      <th>prob_true</th>\n",
       "      <th>result_pred</th>\n",
       "    </tr>\n",
       "  </thead>\n",
       "  <tbody>\n",
       "    <tr>\n",
       "      <th>218</th>\n",
       "      <td>1377</td>\n",
       "      <td>1954</td>\n",
       "      <td>Master</td>\n",
       "      <td>Widow</td>\n",
       "      <td>44551.0</td>\n",
       "      <td>0</td>\n",
       "      <td>1</td>\n",
       "      <td>2013-08-31</td>\n",
       "      <td>24</td>\n",
       "      <td>182</td>\n",
       "      <td>...</td>\n",
       "      <td>0</td>\n",
       "      <td>0</td>\n",
       "      <td>0</td>\n",
       "      <td>0</td>\n",
       "      <td>0</td>\n",
       "      <td>0</td>\n",
       "      <td>1</td>\n",
       "      <td>0</td>\n",
       "      <td>0.114629</td>\n",
       "      <td>False</td>\n",
       "    </tr>\n",
       "    <tr>\n",
       "      <th>1224</th>\n",
       "      <td>7736</td>\n",
       "      <td>1986</td>\n",
       "      <td>Graduation</td>\n",
       "      <td>Married</td>\n",
       "      <td>22518.0</td>\n",
       "      <td>1</td>\n",
       "      <td>0</td>\n",
       "      <td>2012-10-22</td>\n",
       "      <td>36</td>\n",
       "      <td>11</td>\n",
       "      <td>...</td>\n",
       "      <td>0</td>\n",
       "      <td>0</td>\n",
       "      <td>0</td>\n",
       "      <td>1</td>\n",
       "      <td>0</td>\n",
       "      <td>0</td>\n",
       "      <td>0</td>\n",
       "      <td>0</td>\n",
       "      <td>0.303849</td>\n",
       "      <td>False</td>\n",
       "    </tr>\n",
       "    <tr>\n",
       "      <th>1464</th>\n",
       "      <td>7196</td>\n",
       "      <td>1950</td>\n",
       "      <td>PhD</td>\n",
       "      <td>Married</td>\n",
       "      <td>41145.0</td>\n",
       "      <td>1</td>\n",
       "      <td>1</td>\n",
       "      <td>2014-02-08</td>\n",
       "      <td>20</td>\n",
       "      <td>9</td>\n",
       "      <td>...</td>\n",
       "      <td>0</td>\n",
       "      <td>0</td>\n",
       "      <td>0</td>\n",
       "      <td>1</td>\n",
       "      <td>0</td>\n",
       "      <td>0</td>\n",
       "      <td>0</td>\n",
       "      <td>0</td>\n",
       "      <td>0.094794</td>\n",
       "      <td>False</td>\n",
       "    </tr>\n",
       "    <tr>\n",
       "      <th>1078</th>\n",
       "      <td>247</td>\n",
       "      <td>1971</td>\n",
       "      <td>Graduation</td>\n",
       "      <td>Married</td>\n",
       "      <td>36715.0</td>\n",
       "      <td>1</td>\n",
       "      <td>0</td>\n",
       "      <td>2012-11-17</td>\n",
       "      <td>16</td>\n",
       "      <td>172</td>\n",
       "      <td>...</td>\n",
       "      <td>0</td>\n",
       "      <td>0</td>\n",
       "      <td>0</td>\n",
       "      <td>1</td>\n",
       "      <td>0</td>\n",
       "      <td>0</td>\n",
       "      <td>0</td>\n",
       "      <td>0</td>\n",
       "      <td>0.155729</td>\n",
       "      <td>False</td>\n",
       "    </tr>\n",
       "    <tr>\n",
       "      <th>2000</th>\n",
       "      <td>3599</td>\n",
       "      <td>1970</td>\n",
       "      <td>Graduation</td>\n",
       "      <td>Married</td>\n",
       "      <td>63684.0</td>\n",
       "      <td>0</td>\n",
       "      <td>1</td>\n",
       "      <td>2012-11-26</td>\n",
       "      <td>61</td>\n",
       "      <td>575</td>\n",
       "      <td>...</td>\n",
       "      <td>0</td>\n",
       "      <td>0</td>\n",
       "      <td>0</td>\n",
       "      <td>1</td>\n",
       "      <td>0</td>\n",
       "      <td>0</td>\n",
       "      <td>0</td>\n",
       "      <td>0</td>\n",
       "      <td>0.074388</td>\n",
       "      <td>False</td>\n",
       "    </tr>\n",
       "  </tbody>\n",
       "</table>\n",
       "<p>5 rows × 51 columns</p>\n",
       "</div>"
      ],
      "text/plain": [
       "        ID  Year_Birth   Education Marital_Status   Income  Kidhome  Teenhome  \\\n",
       "218   1377        1954      Master          Widow  44551.0        0         1   \n",
       "1224  7736        1986  Graduation        Married  22518.0        1         0   \n",
       "1464  7196        1950         PhD        Married  41145.0        1         1   \n",
       "1078   247        1971  Graduation        Married  36715.0        1         0   \n",
       "2000  3599        1970  Graduation        Married  63684.0        0         1   \n",
       "\n",
       "     Dt_Customer  Recency  MntWines     ...       Marital_Status_Absurd  \\\n",
       "218   2013-08-31       24       182     ...                           0   \n",
       "1224  2012-10-22       36        11     ...                           0   \n",
       "1464  2014-02-08       20         9     ...                           0   \n",
       "1078  2012-11-17       16       172     ...                           0   \n",
       "2000  2012-11-26       61       575     ...                           0   \n",
       "\n",
       "      Marital_Status_Alone  Marital_Status_Divorced  Marital_Status_Married  \\\n",
       "218                      0                        0                       0   \n",
       "1224                     0                        0                       1   \n",
       "1464                     0                        0                       1   \n",
       "1078                     0                        0                       1   \n",
       "2000                     0                        0                       1   \n",
       "\n",
       "      Marital_Status_Single  Marital_Status_Together  Marital_Status_Widow  \\\n",
       "218                       0                        0                     1   \n",
       "1224                      0                        0                     0   \n",
       "1464                      0                        0                     0   \n",
       "1078                      0                        0                     0   \n",
       "2000                      0                        0                     0   \n",
       "\n",
       "      Marital_Status_YOLO  prob_true  result_pred  \n",
       "218                     0   0.114629        False  \n",
       "1224                    0   0.303849        False  \n",
       "1464                    0   0.094794        False  \n",
       "1078                    0   0.155729        False  \n",
       "2000                    0   0.074388        False  \n",
       "\n",
       "[5 rows x 51 columns]"
      ]
     },
     "execution_count": 67,
     "metadata": {},
     "output_type": "execute_result"
    }
   ],
   "source": [
    "df['prob_true'] = logreg.predict_proba(df[columns].drop('Response', axis=1))[:,1]\n",
    "df['result_pred'] = df['prob_true'].apply(lambda x: True if x >= 0.5 else False)\n",
    "df.sample(5)"
   ]
  },
  {
   "cell_type": "code",
   "execution_count": 68,
   "metadata": {},
   "outputs": [
    {
     "data": {
      "text/plain": [
       "result_pred    173\n",
       "Response       117\n",
       "dtype: int64"
      ]
     },
     "execution_count": 68,
     "metadata": {},
     "output_type": "execute_result"
    },
    {
     "data": {
      "image/png": "[encoded data removed]",
      "text/plain": [
       "<Figure size 432x288 with 1 Axes>"
      ]
     },
     "metadata": {
      "needs_background": "light"
     },
     "output_type": "display_data"
    }
   ],
   "source": [
    "(df.query(\"result_pred == 1\")[['result_pred','Response']]\n",
    " .sum()\n",
    " .plot\n",
    " .bar())\n",
    "plt.title(\"Predicted true results x Pilot campaign\")\n",
    "plt.xticks(rotation=0);\n",
    "\n",
    "df.query(\"result_pred == 1\")[['result_pred','Response']].sum()"
   ]
  },
  {
   "cell_type": "markdown",
   "metadata": {},
   "source": [
    "The model predicted that 165 customers would buy the gadget, however, looking at the responses we got in the pilot campaign, only 115 would actually buy.\n",
    "This would give us a 70% success rate - better than the pilot's 15%. In terms of financial results, we would have a revenue of 1265 and a cost of 345 (profit of 920).\n",
    "\n",
    "But, we have a problem: despite the good result in the success rate, we have a few customers. We can lower the probability limit by setting True or False (which is currently 0.5):"
   ]
  },
  {
   "cell_type": "code",
   "execution_count": 69,
   "metadata": {},
   "outputs": [
    {
     "data": {
      "text/html": [
       "<div>\n",
       "<style scoped>\n",
       "    .dataframe tbody tr th:only-of-type {\n",
       "        vertical-align: middle;\n",
       "    }\n",
       "\n",
       "    .dataframe tbody tr th {\n",
       "        vertical-align: top;\n",
       "    }\n",
       "\n",
       "    .dataframe thead th {\n",
       "        text-align: right;\n",
       "    }\n",
       "</style>\n",
       "<table border=\"1\" class=\"dataframe\">\n",
       "  <thead>\n",
       "    <tr style=\"text-align: right;\">\n",
       "      <th></th>\n",
       "      <th>ID</th>\n",
       "      <th>Year_Birth</th>\n",
       "      <th>Education</th>\n",
       "      <th>Marital_Status</th>\n",
       "      <th>Income</th>\n",
       "      <th>Kidhome</th>\n",
       "      <th>Teenhome</th>\n",
       "      <th>Dt_Customer</th>\n",
       "      <th>Recency</th>\n",
       "      <th>MntWines</th>\n",
       "      <th>...</th>\n",
       "      <th>Marital_Status_Alone</th>\n",
       "      <th>Marital_Status_Divorced</th>\n",
       "      <th>Marital_Status_Married</th>\n",
       "      <th>Marital_Status_Single</th>\n",
       "      <th>Marital_Status_Together</th>\n",
       "      <th>Marital_Status_Widow</th>\n",
       "      <th>Marital_Status_YOLO</th>\n",
       "      <th>prob_true</th>\n",
       "      <th>result_pred</th>\n",
       "      <th>result_pred_30p</th>\n",
       "    </tr>\n",
       "  </thead>\n",
       "  <tbody>\n",
       "    <tr>\n",
       "      <th>1371</th>\n",
       "      <td>8805</td>\n",
       "      <td>1960</td>\n",
       "      <td>Graduation</td>\n",
       "      <td>Single</td>\n",
       "      <td>48904.0</td>\n",
       "      <td>0</td>\n",
       "      <td>1</td>\n",
       "      <td>2012-12-02</td>\n",
       "      <td>1</td>\n",
       "      <td>283</td>\n",
       "      <td>...</td>\n",
       "      <td>0</td>\n",
       "      <td>0</td>\n",
       "      <td>0</td>\n",
       "      <td>1</td>\n",
       "      <td>0</td>\n",
       "      <td>0</td>\n",
       "      <td>0</td>\n",
       "      <td>0.262842</td>\n",
       "      <td>False</td>\n",
       "      <td>False</td>\n",
       "    </tr>\n",
       "    <tr>\n",
       "      <th>1631</th>\n",
       "      <td>5209</td>\n",
       "      <td>1954</td>\n",
       "      <td>Graduation</td>\n",
       "      <td>Divorced</td>\n",
       "      <td>50002.0</td>\n",
       "      <td>0</td>\n",
       "      <td>1</td>\n",
       "      <td>2013-06-17</td>\n",
       "      <td>21</td>\n",
       "      <td>443</td>\n",
       "      <td>...</td>\n",
       "      <td>0</td>\n",
       "      <td>1</td>\n",
       "      <td>0</td>\n",
       "      <td>0</td>\n",
       "      <td>0</td>\n",
       "      <td>0</td>\n",
       "      <td>0</td>\n",
       "      <td>0.174377</td>\n",
       "      <td>False</td>\n",
       "      <td>False</td>\n",
       "    </tr>\n",
       "    <tr>\n",
       "      <th>1116</th>\n",
       "      <td>2320</td>\n",
       "      <td>1978</td>\n",
       "      <td>2n Cycle</td>\n",
       "      <td>Married</td>\n",
       "      <td>47025.0</td>\n",
       "      <td>0</td>\n",
       "      <td>1</td>\n",
       "      <td>2013-09-12</td>\n",
       "      <td>98</td>\n",
       "      <td>508</td>\n",
       "      <td>...</td>\n",
       "      <td>0</td>\n",
       "      <td>0</td>\n",
       "      <td>1</td>\n",
       "      <td>0</td>\n",
       "      <td>0</td>\n",
       "      <td>0</td>\n",
       "      <td>0</td>\n",
       "      <td>0.015349</td>\n",
       "      <td>False</td>\n",
       "      <td>False</td>\n",
       "    </tr>\n",
       "    <tr>\n",
       "      <th>1938</th>\n",
       "      <td>5015</td>\n",
       "      <td>1976</td>\n",
       "      <td>Master</td>\n",
       "      <td>Married</td>\n",
       "      <td>34529.0</td>\n",
       "      <td>1</td>\n",
       "      <td>0</td>\n",
       "      <td>2012-09-14</td>\n",
       "      <td>94</td>\n",
       "      <td>68</td>\n",
       "      <td>...</td>\n",
       "      <td>0</td>\n",
       "      <td>0</td>\n",
       "      <td>1</td>\n",
       "      <td>0</td>\n",
       "      <td>0</td>\n",
       "      <td>0</td>\n",
       "      <td>0</td>\n",
       "      <td>0.014877</td>\n",
       "      <td>False</td>\n",
       "      <td>False</td>\n",
       "    </tr>\n",
       "    <tr>\n",
       "      <th>1728</th>\n",
       "      <td>10129</td>\n",
       "      <td>1966</td>\n",
       "      <td>Graduation</td>\n",
       "      <td>Together</td>\n",
       "      <td>82427.0</td>\n",
       "      <td>0</td>\n",
       "      <td>0</td>\n",
       "      <td>2014-03-12</td>\n",
       "      <td>35</td>\n",
       "      <td>482</td>\n",
       "      <td>...</td>\n",
       "      <td>0</td>\n",
       "      <td>0</td>\n",
       "      <td>0</td>\n",
       "      <td>0</td>\n",
       "      <td>1</td>\n",
       "      <td>0</td>\n",
       "      <td>0</td>\n",
       "      <td>0.320095</td>\n",
       "      <td>False</td>\n",
       "      <td>True</td>\n",
       "    </tr>\n",
       "  </tbody>\n",
       "</table>\n",
       "<p>5 rows × 52 columns</p>\n",
       "</div>"
      ],
      "text/plain": [
       "         ID  Year_Birth   Education Marital_Status   Income  Kidhome  \\\n",
       "1371   8805        1960  Graduation         Single  48904.0        0   \n",
       "1631   5209        1954  Graduation       Divorced  50002.0        0   \n",
       "1116   2320        1978    2n Cycle        Married  47025.0        0   \n",
       "1938   5015        1976      Master        Married  34529.0        1   \n",
       "1728  10129        1966  Graduation       Together  82427.0        0   \n",
       "\n",
       "      Teenhome Dt_Customer  Recency  MntWines       ...         \\\n",
       "1371         1  2012-12-02        1       283       ...          \n",
       "1631         1  2013-06-17       21       443       ...          \n",
       "1116         1  2013-09-12       98       508       ...          \n",
       "1938         0  2012-09-14       94        68       ...          \n",
       "1728         0  2014-03-12       35       482       ...          \n",
       "\n",
       "      Marital_Status_Alone  Marital_Status_Divorced  Marital_Status_Married  \\\n",
       "1371                     0                        0                       0   \n",
       "1631                     0                        1                       0   \n",
       "1116                     0                        0                       1   \n",
       "1938                     0                        0                       1   \n",
       "1728                     0                        0                       0   \n",
       "\n",
       "      Marital_Status_Single  Marital_Status_Together  Marital_Status_Widow  \\\n",
       "1371                      1                        0                     0   \n",
       "1631                      0                        0                     0   \n",
       "1116                      0                        0                     0   \n",
       "1938                      0                        0                     0   \n",
       "1728                      0                        1                     0   \n",
       "\n",
       "      Marital_Status_YOLO  prob_true  result_pred  result_pred_30p  \n",
       "1371                    0   0.262842        False            False  \n",
       "1631                    0   0.174377        False            False  \n",
       "1116                    0   0.015349        False            False  \n",
       "1938                    0   0.014877        False            False  \n",
       "1728                    0   0.320095        False             True  \n",
       "\n",
       "[5 rows x 52 columns]"
      ]
     },
     "execution_count": 69,
     "metadata": {},
     "output_type": "execute_result"
    }
   ],
   "source": [
    "df['result_pred_30p'] = df['prob_true'].apply(lambda x: True if x >= 0.30 else False)\n",
    "df.sample(5)"
   ]
  },
  {
   "cell_type": "code",
   "execution_count": 70,
   "metadata": {},
   "outputs": [
    {
     "data": {
      "text/plain": [
       "result_pred_30p    309\n",
       "Response           168\n",
       "dtype: int64"
      ]
     },
     "execution_count": 70,
     "metadata": {},
     "output_type": "execute_result"
    },
    {
     "data": {
      "image/png": "[encoded data removed]",
      "text/plain": [
       "<Figure size 432x288 with 1 Axes>"
      ]
     },
     "metadata": {
      "needs_background": "light"
     },
     "output_type": "display_data"
    }
   ],
   "source": [
    "(df.query(\"result_pred_30p == 1\")[['result_pred_30p','Response']]\n",
    " .sum()\n",
    " .plot\n",
    " .bar())\n",
    "plt.title(\"Predicted true results x Pilot campaign\")\n",
    "plt.xticks(rotation=0);\n",
    "\n",
    "df.query(\"result_pred_30p == 1\")[['result_pred_30p','Response']].sum()"
   ]
  },
  {
   "cell_type": "markdown",
   "metadata": {},
   "source": [
    "Now, we have 54% success rate - better than the pilot's 15%. In terms of financial results, we would have a revenue of 1793 and a cost of 900 (profit of 893).\n",
    "\n",
    "As a suggestion, let's create a table containing the probability limits for True or False between 0 and 1. This way, we will know which probability value that optimizes the profit."
   ]
  },
  {
   "cell_type": "markdown",
   "metadata": {},
   "source": [
    "#### 4.1 Profit optimization"
   ]
  },
  {
   "cell_type": "code",
   "execution_count": 71,
   "metadata": {},
   "outputs": [
    {
     "data": {
      "text/html": [
       "<div>\n",
       "<style scoped>\n",
       "    .dataframe tbody tr th:only-of-type {\n",
       "        vertical-align: middle;\n",
       "    }\n",
       "\n",
       "    .dataframe tbody tr th {\n",
       "        vertical-align: top;\n",
       "    }\n",
       "\n",
       "    .dataframe thead th {\n",
       "        text-align: right;\n",
       "    }\n",
       "</style>\n",
       "<table border=\"1\" class=\"dataframe\">\n",
       "  <thead>\n",
       "    <tr style=\"text-align: right;\">\n",
       "      <th></th>\n",
       "      <th>limit_prob</th>\n",
       "      <th>result_pred</th>\n",
       "      <th>response</th>\n",
       "      <th>revenue_previst</th>\n",
       "      <th>cost_previst</th>\n",
       "      <th>profit_previst</th>\n",
       "      <th>tx_sucess</th>\n",
       "    </tr>\n",
       "  </thead>\n",
       "  <tbody>\n",
       "    <tr>\n",
       "      <th>24</th>\n",
       "      <td>24</td>\n",
       "      <td>420</td>\n",
       "      <td>206</td>\n",
       "      <td>2266</td>\n",
       "      <td>1260</td>\n",
       "      <td>1006</td>\n",
       "      <td>0.5</td>\n",
       "    </tr>\n",
       "    <tr>\n",
       "      <th>25</th>\n",
       "      <td>25</td>\n",
       "      <td>397</td>\n",
       "      <td>199</td>\n",
       "      <td>2189</td>\n",
       "      <td>1191</td>\n",
       "      <td>998</td>\n",
       "      <td>0.5</td>\n",
       "    </tr>\n",
       "    <tr>\n",
       "      <th>28</th>\n",
       "      <td>28</td>\n",
       "      <td>339</td>\n",
       "      <td>182</td>\n",
       "      <td>2002</td>\n",
       "      <td>1017</td>\n",
       "      <td>985</td>\n",
       "      <td>0.5</td>\n",
       "    </tr>\n",
       "    <tr>\n",
       "      <th>23</th>\n",
       "      <td>23</td>\n",
       "      <td>443</td>\n",
       "      <td>210</td>\n",
       "      <td>2310</td>\n",
       "      <td>1329</td>\n",
       "      <td>981</td>\n",
       "      <td>0.5</td>\n",
       "    </tr>\n",
       "    <tr>\n",
       "      <th>26</th>\n",
       "      <td>26</td>\n",
       "      <td>375</td>\n",
       "      <td>191</td>\n",
       "      <td>2101</td>\n",
       "      <td>1125</td>\n",
       "      <td>976</td>\n",
       "      <td>0.5</td>\n",
       "    </tr>\n",
       "    <tr>\n",
       "      <th>29</th>\n",
       "      <td>29</td>\n",
       "      <td>322</td>\n",
       "      <td>176</td>\n",
       "      <td>1936</td>\n",
       "      <td>966</td>\n",
       "      <td>970</td>\n",
       "      <td>0.5</td>\n",
       "    </tr>\n",
       "    <tr>\n",
       "      <th>27</th>\n",
       "      <td>27</td>\n",
       "      <td>355</td>\n",
       "      <td>185</td>\n",
       "      <td>2035</td>\n",
       "      <td>1065</td>\n",
       "      <td>970</td>\n",
       "      <td>0.5</td>\n",
       "    </tr>\n",
       "    <tr>\n",
       "      <th>22</th>\n",
       "      <td>22</td>\n",
       "      <td>467</td>\n",
       "      <td>212</td>\n",
       "      <td>2332</td>\n",
       "      <td>1401</td>\n",
       "      <td>931</td>\n",
       "      <td>0.5</td>\n",
       "    </tr>\n",
       "    <tr>\n",
       "      <th>31</th>\n",
       "      <td>31</td>\n",
       "      <td>305</td>\n",
       "      <td>167</td>\n",
       "      <td>1837</td>\n",
       "      <td>915</td>\n",
       "      <td>922</td>\n",
       "      <td>0.5</td>\n",
       "    </tr>\n",
       "    <tr>\n",
       "      <th>30</th>\n",
       "      <td>30</td>\n",
       "      <td>309</td>\n",
       "      <td>168</td>\n",
       "      <td>1848</td>\n",
       "      <td>927</td>\n",
       "      <td>921</td>\n",
       "      <td>0.5</td>\n",
       "    </tr>\n",
       "    <tr>\n",
       "      <th>21</th>\n",
       "      <td>21</td>\n",
       "      <td>494</td>\n",
       "      <td>218</td>\n",
       "      <td>2398</td>\n",
       "      <td>1482</td>\n",
       "      <td>916</td>\n",
       "      <td>0.4</td>\n",
       "    </tr>\n",
       "    <tr>\n",
       "      <th>34</th>\n",
       "      <td>34</td>\n",
       "      <td>275</td>\n",
       "      <td>158</td>\n",
       "      <td>1738</td>\n",
       "      <td>825</td>\n",
       "      <td>913</td>\n",
       "      <td>0.6</td>\n",
       "    </tr>\n",
       "    <tr>\n",
       "      <th>33</th>\n",
       "      <td>33</td>\n",
       "      <td>285</td>\n",
       "      <td>160</td>\n",
       "      <td>1760</td>\n",
       "      <td>855</td>\n",
       "      <td>905</td>\n",
       "      <td>0.6</td>\n",
       "    </tr>\n",
       "    <tr>\n",
       "      <th>35</th>\n",
       "      <td>35</td>\n",
       "      <td>268</td>\n",
       "      <td>155</td>\n",
       "      <td>1705</td>\n",
       "      <td>804</td>\n",
       "      <td>901</td>\n",
       "      <td>0.6</td>\n",
       "    </tr>\n",
       "    <tr>\n",
       "      <th>32</th>\n",
       "      <td>32</td>\n",
       "      <td>292</td>\n",
       "      <td>161</td>\n",
       "      <td>1771</td>\n",
       "      <td>876</td>\n",
       "      <td>895</td>\n",
       "      <td>0.6</td>\n",
       "    </tr>\n",
       "    <tr>\n",
       "      <th>36</th>\n",
       "      <td>36</td>\n",
       "      <td>263</td>\n",
       "      <td>152</td>\n",
       "      <td>1672</td>\n",
       "      <td>789</td>\n",
       "      <td>883</td>\n",
       "      <td>0.6</td>\n",
       "    </tr>\n",
       "    <tr>\n",
       "      <th>20</th>\n",
       "      <td>20</td>\n",
       "      <td>523</td>\n",
       "      <td>221</td>\n",
       "      <td>2431</td>\n",
       "      <td>1569</td>\n",
       "      <td>862</td>\n",
       "      <td>0.4</td>\n",
       "    </tr>\n",
       "    <tr>\n",
       "      <th>37</th>\n",
       "      <td>37</td>\n",
       "      <td>253</td>\n",
       "      <td>147</td>\n",
       "      <td>1617</td>\n",
       "      <td>759</td>\n",
       "      <td>858</td>\n",
       "      <td>0.6</td>\n",
       "    </tr>\n",
       "    <tr>\n",
       "      <th>19</th>\n",
       "      <td>19</td>\n",
       "      <td>557</td>\n",
       "      <td>229</td>\n",
       "      <td>2519</td>\n",
       "      <td>1671</td>\n",
       "      <td>848</td>\n",
       "      <td>0.4</td>\n",
       "    </tr>\n",
       "    <tr>\n",
       "      <th>40</th>\n",
       "      <td>40</td>\n",
       "      <td>234</td>\n",
       "      <td>140</td>\n",
       "      <td>1540</td>\n",
       "      <td>702</td>\n",
       "      <td>838</td>\n",
       "      <td>0.6</td>\n",
       "    </tr>\n",
       "  </tbody>\n",
       "</table>\n",
       "</div>"
      ],
      "text/plain": [
       "    limit_prob  result_pred  response  revenue_previst  cost_previst  \\\n",
       "24          24          420       206             2266          1260   \n",
       "25          25          397       199             2189          1191   \n",
       "28          28          339       182             2002          1017   \n",
       "23          23          443       210             2310          1329   \n",
       "26          26          375       191             2101          1125   \n",
       "29          29          322       176             1936           966   \n",
       "27          27          355       185             2035          1065   \n",
       "22          22          467       212             2332          1401   \n",
       "31          31          305       167             1837           915   \n",
       "30          30          309       168             1848           927   \n",
       "21          21          494       218             2398          1482   \n",
       "34          34          275       158             1738           825   \n",
       "33          33          285       160             1760           855   \n",
       "35          35          268       155             1705           804   \n",
       "32          32          292       161             1771           876   \n",
       "36          36          263       152             1672           789   \n",
       "20          20          523       221             2431          1569   \n",
       "37          37          253       147             1617           759   \n",
       "19          19          557       229             2519          1671   \n",
       "40          40          234       140             1540           702   \n",
       "\n",
       "    profit_previst  tx_sucess  \n",
       "24            1006        0.5  \n",
       "25             998        0.5  \n",
       "28             985        0.5  \n",
       "23             981        0.5  \n",
       "26             976        0.5  \n",
       "29             970        0.5  \n",
       "27             970        0.5  \n",
       "22             931        0.5  \n",
       "31             922        0.5  \n",
       "30             921        0.5  \n",
       "21             916        0.4  \n",
       "34             913        0.6  \n",
       "33             905        0.6  \n",
       "35             901        0.6  \n",
       "32             895        0.6  \n",
       "36             883        0.6  \n",
       "20             862        0.4  \n",
       "37             858        0.6  \n",
       "19             848        0.4  \n",
       "40             838        0.6  "
      ]
     },
     "execution_count": 71,
     "metadata": {},
     "output_type": "execute_result"
    }
   ],
   "source": [
    "eda.optimal_probability(df).head(20)"
   ]
  },
  {
   "cell_type": "markdown",
   "metadata": {},
   "source": [
    "The table shows us that if we accepted all customers with a probability greater than 0.22 as True, we would have a 50% success rate (even greater than 15% of the pilot) and an expected profit of 1012."
   ]
  },
  {
   "cell_type": "markdown",
   "metadata": {},
   "source": [
    "with pd.ExcelWriter(DATA / 'customers_to_send_the_campaign.xlsx') as excel_writer:\n",
    "    df.to_excel(excel_writer, sheet_name='customers', columns=(['ID', 'prob_true']), index=False)\n",
    "    eda.optimal_probability(df).to_excel(excel_writer, sheet_name='profit_optimization', index=False)"
   ]
  }
 ],
 "metadata": {
  "kernelspec": {
   "display_name": "ifood-test",
   "language": "python",
   "name": "ifood-test"
  },
  "language_info": {
   "codemirror_mode": {
    "name": "ipython",
    "version": 3
   },
   "file_extension": ".py",
   "mimetype": "text/x-python",
   "name": "python",
   "nbconvert_exporter": "python",
   "pygments_lexer": "ipython3",
   "version": "3.6.5"
  }
 },
 "nbformat": 4,
 "nbformat_minor": 2
}
