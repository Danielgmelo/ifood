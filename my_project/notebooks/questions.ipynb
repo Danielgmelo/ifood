{
 "cells": [
  {
   "cell_type": "code",
   "execution_count": null,
   "metadata": {},
   "outputs": [],
   "source": [
    "features a serem analisadas:\n",
    "    \n",
    "    - se o cliente reclamou nos últimos 2 anos\n",
    "    - Idade do cliente\n",
    "    - data do cadastro do cliente na empresa\n",
    "    - nível de educação\n",
    "    - estado civil\n",
    "    - quantidade de crianças pequenas em casa\n",
    "    - quantidade de adolescentes em casa\n",
    "    - renda anual familiar da consumidor\n",
    "    - gasto com peixes nos ultimos 2 anos\n",
    "    - gasto com carne nos últimos dois anos\n",
    "    - gasto com fruta nos ultimos 2 anos\n",
    "    - gasto com doce nos ultimos 2 anos\n",
    "    - gasto com vinho nos ultimos 2 anos\n",
    "    - gasto com produto gold nos ultimos 2 anos\n",
    "    - numero de compras com disconto\n",
    "    - mumero de compras com catalogo\n",
    "    - numero de compras diretamente na loja fisica\n",
    "    - numero de compras no site da empresa\n",
    "    - numero de visita ao site da empresa NO ULTIMO MES(há mais compras do que visitas?)\n",
    "    - número de dias desde a última compra"
   ]
  },
  {
   "cell_type": "markdown",
   "metadata": {},
   "source": [
    "Perguntas\n",
    "\n",
    "qual o tipo de cliente que mais reclama?\n",
    "> temos clientes mais antigos ou mais novos? \n",
    "\n",
    "o cliente que mais comprou é o mais novo ou mais velho?\n",
    "o cliente que fez mais compras é o mais novo ou o mais velho?\n",
    "o cliente que mais compra produtos gold é o mais novo ou o mais velho?\n",
    "como é a relação da idade com os canais?\n",
    "como é a relação da idade com 5 produtos?\n",
    "\n",
    "qual a participaçao do estado civil na base?\n",
    "a participação da qtde de filhos nas compras (receita) e frequencia.\n",
    "\n",
    "Qual o tipo de cliente mais gasta com cada uma das 5 linhas de produto?\n",
    "\n",
    "Qual o tipo de cliente mais compara atraves de cada um dos canais?\n",
    "Qual o tipo de cliente mais visita o website\n",
    "\n",
    "Qual a relação da renda com a qtde de compras em cada um dos canais e com a venda total?\n",
    "\n",
    "Qual a relação da renda com o total gasto em cada um dos 5 tipos de produto?\n",
    "\n",
    "qual a relação da idade no total de vendas dos 5 produtos e\n",
    "\n",
    "\n",
    "*vamos traçar o pefil do pubilico desta loja\n",
    "\n",
    "\n",
    "Nas primeiras 5 campanhas, quem mais aceitou a oferta\n",
    "comparar os resultados das 5 para ver se sao parecidos"
   ]
  }
 ],
 "metadata": {
  "kernelspec": {
   "display_name": "ifood-test",
   "language": "python",
   "name": "ifood-test"
  },
  "language_info": {
   "codemirror_mode": {
    "name": "ipython",
    "version": 3
   },
   "file_extension": ".py",
   "mimetype": "text/x-python",
   "name": "python",
   "nbconvert_exporter": "python",
   "pygments_lexer": "ipython3",
   "version": "3.6.5"
  }
 },
 "nbformat": 4,
 "nbformat_minor": 2
}
