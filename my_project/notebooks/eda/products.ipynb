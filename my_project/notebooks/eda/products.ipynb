{
 "cells": [
  {
   "cell_type": "markdown",
   "metadata": {},
   "source": [
    "### 1. Purpose of this notebook\n",
    "\n",
    "The purpose of this notebook is to explore the products' data (MntWines, MntFruits, MntMeatProducts, MntFishProducts, MntSweetProducts) looking for insigths, discoveries and knowledge.\n",
    "\n",
    "#### What's the question we want to answer with this notebook?\n",
    "\n",
    "**Who are our customers or who are our principal customers (majority)?**\n",
    "\n",
    "> Based on the answers we get, we can draw a gereal profile our customers:\n",
    "- "
   ]
  },
  {
   "cell_type": "markdown",
   "metadata": {},
   "source": [
    "### 2. Read data"
   ]
  },
  {
   "cell_type": "markdown",
   "metadata": {},
   "source": [
    "#### 2.1 Import Python packages"
   ]
  },
  {
   "cell_type": "code",
   "execution_count": 4,
   "metadata": {},
   "outputs": [
    {
     "name": "stdout",
     "output_type": "stream",
     "text": [
      "The autoreload extension is already loaded. To reload it, use:\n",
      "  %reload_ext autoreload\n"
     ]
    }
   ],
   "source": [
    "import pandas as pd\n",
    "import numpy as np\n",
    "import matplotlib.pyplot as plt\n",
    "import datetime\n",
    "import seaborn as sns\n",
    "import numpy as np\n",
    "\n",
    "import src.data_visualization as dv\n",
    "import src.eda as eda\n",
    "from src.paths import DATA\n",
    "\n",
    "%matplotlib inline\n",
    "plt.style.use('bmh')\n",
    "\n",
    "%load_ext autoreload\n",
    "%autoreload 2"
   ]
  },
  {
   "cell_type": "code",
   "execution_count": 5,
   "metadata": {},
   "outputs": [],
   "source": [
    "dtypes = {'ID': str}\n",
    "columns = ['ID', 'Education', 'Marital_Status', 'Income', 'Kidhome','Teenhome', 'Recency', 'MntWines', 'MntFruits',\n",
    "       'MntMeatProducts', 'MntFishProducts', 'MntSweetProducts', 'MntGoldProds', 'NumDealsPurchases', 'NumWebPurchases',\n",
    "       'NumCatalogPurchases', 'NumStorePurchases', 'NumWebVisitsMonth','Complain', 'Age', 'MntTotal', 'NumTotalPurchases',\n",
    "       'AcceptedTotalFirstFiveCmps', 'AcceptedTotalFirstFiveCmpsMorePilot', 'TotalYearAfterRegistration', 'TotalChildren']\n",
    "\n",
    "df = pd.read_csv(DATA / 'ml_project1_data_pre_processed.csv', dtype=dtypes, usecols=columns)"
   ]
  },
  {
   "cell_type": "markdown",
   "metadata": {},
   "source": [
    "#### 2.2 Sample data"
   ]
  },
  {
   "cell_type": "code",
   "execution_count": 6,
   "metadata": {},
   "outputs": [
    {
     "data": {
      "text/html": [
       "<div>\n",
       "<style scoped>\n",
       "    .dataframe tbody tr th:only-of-type {\n",
       "        vertical-align: middle;\n",
       "    }\n",
       "\n",
       "    .dataframe tbody tr th {\n",
       "        vertical-align: top;\n",
       "    }\n",
       "\n",
       "    .dataframe thead th {\n",
       "        text-align: right;\n",
       "    }\n",
       "</style>\n",
       "<table border=\"1\" class=\"dataframe\">\n",
       "  <thead>\n",
       "    <tr style=\"text-align: right;\">\n",
       "      <th></th>\n",
       "      <th>ID</th>\n",
       "      <th>Education</th>\n",
       "      <th>Marital_Status</th>\n",
       "      <th>Income</th>\n",
       "      <th>Kidhome</th>\n",
       "      <th>Teenhome</th>\n",
       "      <th>Recency</th>\n",
       "      <th>MntWines</th>\n",
       "      <th>MntFruits</th>\n",
       "      <th>MntMeatProducts</th>\n",
       "      <th>...</th>\n",
       "      <th>NumStorePurchases</th>\n",
       "      <th>NumWebVisitsMonth</th>\n",
       "      <th>Complain</th>\n",
       "      <th>Age</th>\n",
       "      <th>MntTotal</th>\n",
       "      <th>NumTotalPurchases</th>\n",
       "      <th>AcceptedTotalFirstFiveCmps</th>\n",
       "      <th>AcceptedTotalFirstFiveCmpsMorePilot</th>\n",
       "      <th>TotalYearAfterRegistration</th>\n",
       "      <th>TotalChildren</th>\n",
       "    </tr>\n",
       "  </thead>\n",
       "  <tbody>\n",
       "    <tr>\n",
       "      <th>1113</th>\n",
       "      <td>3885</td>\n",
       "      <td>PhD</td>\n",
       "      <td>Married</td>\n",
       "      <td>33569.0</td>\n",
       "      <td>1</td>\n",
       "      <td>0</td>\n",
       "      <td>10</td>\n",
       "      <td>16</td>\n",
       "      <td>2</td>\n",
       "      <td>18</td>\n",
       "      <td>...</td>\n",
       "      <td>2</td>\n",
       "      <td>8</td>\n",
       "      <td>False</td>\n",
       "      <td>37</td>\n",
       "      <td>39</td>\n",
       "      <td>4</td>\n",
       "      <td>1</td>\n",
       "      <td>2</td>\n",
       "      <td>7</td>\n",
       "      <td>1</td>\n",
       "    </tr>\n",
       "    <tr>\n",
       "      <th>2171</th>\n",
       "      <td>4377</td>\n",
       "      <td>Graduation</td>\n",
       "      <td>Married</td>\n",
       "      <td>52914.0</td>\n",
       "      <td>0</td>\n",
       "      <td>1</td>\n",
       "      <td>32</td>\n",
       "      <td>254</td>\n",
       "      <td>10</td>\n",
       "      <td>44</td>\n",
       "      <td>...</td>\n",
       "      <td>3</td>\n",
       "      <td>7</td>\n",
       "      <td>False</td>\n",
       "      <td>49</td>\n",
       "      <td>348</td>\n",
       "      <td>13</td>\n",
       "      <td>1</td>\n",
       "      <td>1</td>\n",
       "      <td>7</td>\n",
       "      <td>1</td>\n",
       "    </tr>\n",
       "    <tr>\n",
       "      <th>1624</th>\n",
       "      <td>3276</td>\n",
       "      <td>2n Cycle</td>\n",
       "      <td>Together</td>\n",
       "      <td>36301.0</td>\n",
       "      <td>1</td>\n",
       "      <td>0</td>\n",
       "      <td>53</td>\n",
       "      <td>11</td>\n",
       "      <td>12</td>\n",
       "      <td>35</td>\n",
       "      <td>...</td>\n",
       "      <td>3</td>\n",
       "      <td>7</td>\n",
       "      <td>False</td>\n",
       "      <td>44</td>\n",
       "      <td>66</td>\n",
       "      <td>6</td>\n",
       "      <td>0</td>\n",
       "      <td>0</td>\n",
       "      <td>7</td>\n",
       "      <td>1</td>\n",
       "    </tr>\n",
       "    <tr>\n",
       "      <th>545</th>\n",
       "      <td>8541</td>\n",
       "      <td>2n Cycle</td>\n",
       "      <td>Married</td>\n",
       "      <td>24683.0</td>\n",
       "      <td>1</td>\n",
       "      <td>0</td>\n",
       "      <td>98</td>\n",
       "      <td>8</td>\n",
       "      <td>4</td>\n",
       "      <td>10</td>\n",
       "      <td>...</td>\n",
       "      <td>4</td>\n",
       "      <td>5</td>\n",
       "      <td>False</td>\n",
       "      <td>30</td>\n",
       "      <td>35</td>\n",
       "      <td>6</td>\n",
       "      <td>0</td>\n",
       "      <td>0</td>\n",
       "      <td>6</td>\n",
       "      <td>1</td>\n",
       "    </tr>\n",
       "    <tr>\n",
       "      <th>321</th>\n",
       "      <td>520</td>\n",
       "      <td>Graduation</td>\n",
       "      <td>Married</td>\n",
       "      <td>34421.0</td>\n",
       "      <td>1</td>\n",
       "      <td>0</td>\n",
       "      <td>81</td>\n",
       "      <td>3</td>\n",
       "      <td>3</td>\n",
       "      <td>7</td>\n",
       "      <td>...</td>\n",
       "      <td>2</td>\n",
       "      <td>7</td>\n",
       "      <td>False</td>\n",
       "      <td>46</td>\n",
       "      <td>21</td>\n",
       "      <td>3</td>\n",
       "      <td>0</td>\n",
       "      <td>0</td>\n",
       "      <td>7</td>\n",
       "      <td>1</td>\n",
       "    </tr>\n",
       "  </tbody>\n",
       "</table>\n",
       "<p>5 rows × 26 columns</p>\n",
       "</div>"
      ],
      "text/plain": [
       "        ID   Education Marital_Status   Income  Kidhome  Teenhome  Recency  \\\n",
       "1113  3885         PhD        Married  33569.0        1         0       10   \n",
       "2171  4377  Graduation        Married  52914.0        0         1       32   \n",
       "1624  3276    2n Cycle       Together  36301.0        1         0       53   \n",
       "545   8541    2n Cycle        Married  24683.0        1         0       98   \n",
       "321    520  Graduation        Married  34421.0        1         0       81   \n",
       "\n",
       "      MntWines  MntFruits  MntMeatProducts      ...        NumStorePurchases  \\\n",
       "1113        16          2               18      ...                        2   \n",
       "2171       254         10               44      ...                        3   \n",
       "1624        11         12               35      ...                        3   \n",
       "545          8          4               10      ...                        4   \n",
       "321          3          3                7      ...                        2   \n",
       "\n",
       "      NumWebVisitsMonth  Complain  Age  MntTotal  NumTotalPurchases  \\\n",
       "1113                  8     False   37        39                  4   \n",
       "2171                  7     False   49       348                 13   \n",
       "1624                  7     False   44        66                  6   \n",
       "545                   5     False   30        35                  6   \n",
       "321                   7     False   46        21                  3   \n",
       "\n",
       "      AcceptedTotalFirstFiveCmps  AcceptedTotalFirstFiveCmpsMorePilot  \\\n",
       "1113                           1                                    2   \n",
       "2171                           1                                    1   \n",
       "1624                           0                                    0   \n",
       "545                            0                                    0   \n",
       "321                            0                                    0   \n",
       "\n",
       "      TotalYearAfterRegistration  TotalChildren  \n",
       "1113                           7              1  \n",
       "2171                           7              1  \n",
       "1624                           7              1  \n",
       "545                            6              1  \n",
       "321                            7              1  \n",
       "\n",
       "[5 rows x 26 columns]"
      ]
     },
     "execution_count": 6,
     "metadata": {},
     "output_type": "execute_result"
    }
   ],
   "source": [
    "df.sample(5)"
   ]
  },
  {
   "cell_type": "markdown",
   "metadata": {},
   "source": [
    "### 3. Marketing penetration (products)"
   ]
  },
  {
   "cell_type": "code",
   "execution_count": 9,
   "metadata": {},
   "outputs": [
    {
     "data": {
      "text/html": [
       "<div>\n",
       "<style scoped>\n",
       "    .dataframe tbody tr th:only-of-type {\n",
       "        vertical-align: middle;\n",
       "    }\n",
       "\n",
       "    .dataframe tbody tr th {\n",
       "        vertical-align: top;\n",
       "    }\n",
       "\n",
       "    .dataframe thead th {\n",
       "        text-align: right;\n",
       "    }\n",
       "</style>\n",
       "<table border=\"1\" class=\"dataframe\">\n",
       "  <thead>\n",
       "    <tr style=\"text-align: right;\">\n",
       "      <th></th>\n",
       "      <th>Kidhome</th>\n",
       "      <th>Teenhome</th>\n",
       "      <th>TotalChildren</th>\n",
       "      <th>MntWines</th>\n",
       "      <th>MntFruits</th>\n",
       "      <th>MntMeatProducts</th>\n",
       "      <th>MntFishProducts</th>\n",
       "      <th>MntSweetProducts</th>\n",
       "    </tr>\n",
       "  </thead>\n",
       "  <tbody>\n",
       "    <tr>\n",
       "      <th>Kidhome</th>\n",
       "      <td>1.000000</td>\n",
       "      <td>-0.037935</td>\n",
       "      <td>0.689351</td>\n",
       "      <td>-0.498260</td>\n",
       "      <td>-0.373671</td>\n",
       "      <td>-0.438576</td>\n",
       "      <td>-0.388956</td>\n",
       "      <td>-0.371831</td>\n",
       "    </tr>\n",
       "    <tr>\n",
       "      <th>Teenhome</th>\n",
       "      <td>-0.037935</td>\n",
       "      <td>1.000000</td>\n",
       "      <td>0.697755</td>\n",
       "      <td>0.003058</td>\n",
       "      <td>-0.178247</td>\n",
       "      <td>-0.263128</td>\n",
       "      <td>-0.205965</td>\n",
       "      <td>-0.164021</td>\n",
       "    </tr>\n",
       "    <tr>\n",
       "      <th>TotalChildren</th>\n",
       "      <td>0.689351</td>\n",
       "      <td>0.697755</td>\n",
       "      <td>1.000000</td>\n",
       "      <td>-0.354962</td>\n",
       "      <td>-0.397087</td>\n",
       "      <td>-0.505149</td>\n",
       "      <td>-0.428138</td>\n",
       "      <td>-0.385455</td>\n",
       "    </tr>\n",
       "    <tr>\n",
       "      <th>MntWines</th>\n",
       "      <td>-0.498260</td>\n",
       "      <td>0.003058</td>\n",
       "      <td>-0.354962</td>\n",
       "      <td>1.000000</td>\n",
       "      <td>0.388708</td>\n",
       "      <td>0.561860</td>\n",
       "      <td>0.398705</td>\n",
       "      <td>0.385609</td>\n",
       "    </tr>\n",
       "    <tr>\n",
       "      <th>MntFruits</th>\n",
       "      <td>-0.373671</td>\n",
       "      <td>-0.178247</td>\n",
       "      <td>-0.397087</td>\n",
       "      <td>0.388708</td>\n",
       "      <td>1.000000</td>\n",
       "      <td>0.542521</td>\n",
       "      <td>0.594331</td>\n",
       "      <td>0.566676</td>\n",
       "    </tr>\n",
       "    <tr>\n",
       "      <th>MntMeatProducts</th>\n",
       "      <td>-0.438576</td>\n",
       "      <td>-0.263128</td>\n",
       "      <td>-0.505149</td>\n",
       "      <td>0.561860</td>\n",
       "      <td>0.542521</td>\n",
       "      <td>1.000000</td>\n",
       "      <td>0.567786</td>\n",
       "      <td>0.523218</td>\n",
       "    </tr>\n",
       "    <tr>\n",
       "      <th>MntFishProducts</th>\n",
       "      <td>-0.388956</td>\n",
       "      <td>-0.205965</td>\n",
       "      <td>-0.428138</td>\n",
       "      <td>0.398705</td>\n",
       "      <td>0.594331</td>\n",
       "      <td>0.567786</td>\n",
       "      <td>1.000000</td>\n",
       "      <td>0.579352</td>\n",
       "    </tr>\n",
       "    <tr>\n",
       "      <th>MntSweetProducts</th>\n",
       "      <td>-0.371831</td>\n",
       "      <td>-0.164021</td>\n",
       "      <td>-0.385455</td>\n",
       "      <td>0.385609</td>\n",
       "      <td>0.566676</td>\n",
       "      <td>0.523218</td>\n",
       "      <td>0.579352</td>\n",
       "      <td>1.000000</td>\n",
       "    </tr>\n",
       "  </tbody>\n",
       "</table>\n",
       "</div>"
      ],
      "text/plain": [
       "                   Kidhome  Teenhome  TotalChildren  MntWines  MntFruits  \\\n",
       "Kidhome           1.000000 -0.037935       0.689351 -0.498260  -0.373671   \n",
       "Teenhome         -0.037935  1.000000       0.697755  0.003058  -0.178247   \n",
       "TotalChildren     0.689351  0.697755       1.000000 -0.354962  -0.397087   \n",
       "MntWines         -0.498260  0.003058      -0.354962  1.000000   0.388708   \n",
       "MntFruits        -0.373671 -0.178247      -0.397087  0.388708   1.000000   \n",
       "MntMeatProducts  -0.438576 -0.263128      -0.505149  0.561860   0.542521   \n",
       "MntFishProducts  -0.388956 -0.205965      -0.428138  0.398705   0.594331   \n",
       "MntSweetProducts -0.371831 -0.164021      -0.385455  0.385609   0.566676   \n",
       "\n",
       "                  MntMeatProducts  MntFishProducts  MntSweetProducts  \n",
       "Kidhome                 -0.438576        -0.388956         -0.371831  \n",
       "Teenhome                -0.263128        -0.205965         -0.164021  \n",
       "TotalChildren           -0.505149        -0.428138         -0.385455  \n",
       "MntWines                 0.561860         0.398705          0.385609  \n",
       "MntFruits                0.542521         0.594331          0.566676  \n",
       "MntMeatProducts          1.000000         0.567786          0.523218  \n",
       "MntFishProducts          0.567786         1.000000          0.579352  \n",
       "MntSweetProducts         0.523218         0.579352          1.000000  "
      ]
     },
     "execution_count": 9,
     "metadata": {},
     "output_type": "execute_result"
    }
   ],
   "source": [
    "df[['Kidhome','Teenhome', 'TotalChildren', 'MntWines', 'MntFruits','MntMeatProducts', 'MntFishProducts', 'MntSweetProducts']].corr()"
   ]
  },
  {
   "cell_type": "code",
   "execution_count": 16,
   "metadata": {},
   "outputs": [],
   "source": [
    "df_children = df.query(\"TotalChildren > 0\")\n",
    "df_not_childre = df.query(\"TotalChildren == 0\")"
   ]
  },
  {
   "cell_type": "code",
   "execution_count": 20,
   "metadata": {},
   "outputs": [
    {
     "data": {
      "text/plain": [
       "(26767, 16.729375, 1600)"
      ]
     },
     "execution_count": 20,
     "metadata": {},
     "output_type": "execute_result"
    }
   ],
   "source": [
    "df_children['MntSweetProducts'].sum(), df_children['MntSweetProducts'].mean(), df_children['MntSweetProducts'].count()"
   ]
  },
  {
   "cell_type": "code",
   "execution_count": 19,
   "metadata": {},
   "outputs": [
    {
     "data": {
      "text/plain": [
       "(33838, 53.4565560821485, 633)"
      ]
     },
     "execution_count": 19,
     "metadata": {},
     "output_type": "execute_result"
    }
   ],
   "source": [
    "df_not_childre['MntSweetProducts'].sum(), df_not_childre['MntSweetProducts'].mean(),  df_not_childre['MntSweetProducts'].count()"
   ]
  },
  {
   "cell_type": "code",
   "execution_count": null,
   "metadata": {},
   "outputs": [],
   "source": []
  },
  {
   "cell_type": "code",
   "execution_count": 21,
   "metadata": {},
   "outputs": [
    {
     "data": {
      "text/plain": [
       "(593647, 371.029375, 1600)"
      ]
     },
     "execution_count": 21,
     "metadata": {},
     "output_type": "execute_result"
    }
   ],
   "source": [
    "df_children['MntTotal'].sum(), df_children['MntTotal'].mean(), df_children['MntTotal'].count()"
   ]
  },
  {
   "cell_type": "code",
   "execution_count": 22,
   "metadata": {},
   "outputs": [
    {
     "data": {
      "text/plain": [
       "(664520, 1049.7946287519746, 633)"
      ]
     },
     "execution_count": 22,
     "metadata": {},
     "output_type": "execute_result"
    }
   ],
   "source": [
    "df_not_childre['MntTotal'].sum(), df_not_childre['MntTotal'].mean(), df_not_childre['MntTotal'].count()"
   ]
  },
  {
   "cell_type": "code",
   "execution_count": null,
   "metadata": {},
   "outputs": [],
   "source": []
  },
  {
   "cell_type": "code",
   "execution_count": null,
   "metadata": {},
   "outputs": [],
   "source": []
  },
  {
   "cell_type": "code",
   "execution_count": null,
   "metadata": {},
   "outputs": [],
   "source": []
  },
  {
   "cell_type": "markdown",
   "metadata": {},
   "source": [
    "Other analysis:\n",
    "\n",
    "- Marketing penetration by Income, Age, Total children etc."
   ]
  }
 ],
 "metadata": {
  "kernelspec": {
   "display_name": "ifood-test",
   "language": "python",
   "name": "ifood-test"
  },
  "language_info": {
   "codemirror_mode": {
    "name": "ipython",
    "version": 3
   },
   "file_extension": ".py",
   "mimetype": "text/x-python",
   "name": "python",
   "nbconvert_exporter": "python",
   "pygments_lexer": "ipython3",
   "version": "3.6.5"
  }
 },
 "nbformat": 4,
 "nbformat_minor": 2
}
