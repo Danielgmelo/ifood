{
 "cells": [
  {
   "cell_type": "markdown",
   "metadata": {},
   "source": [
    "### 1. Purpose of this notebook\n",
    "\n",
    "The purpose of this notebook is to explore the customers' data looking for insigths, discoveries and knowledge.\n",
    "\n",
    "#### What's the question we want to answer with this notebook?\n",
    "\n",
    "**Who are our customers or who are our principal customers (majority)?**\n",
    "\n",
    "> Based on the answers we get, we can draw a gereal profile our customers:\n",
    " - They are mostly middle age customers (75% are over 43 years old)\n",
    "- 70% have at least 1 child\n",
    "- About 65% are married or live together\n",
    "- 85% are undergraduate or graduate (master or phd)\n",
    "- 75% have an average annual family income of less than 69000, with an average of ~52000\n",
    "- Our customers prefer to buy in stores or through the website, mainly in stores. However, they bought every two months, the best frequency being the store. When we open by channel the numbers are bad. **How could we improve the frequency of purchase? In catalog, our customer buys once every 9 months. How much do we invest in this channel?** \n",
    "- They do not usually make complaints (more than 99% have not made any complaints in the last two years)\n",
    "- The average spend on our products in the past two years was about 560, however, 50% of them spent less than 377\n",
    "- More than 99% of our customers have accessed the site at least once in the last month\n",
    "- Regarding discounts, almost all customers have already received some discount in the past two years. On average, about 24% of all purchases received some discount. Which doesn't seem like much."
   ]
  },
  {
   "cell_type": "markdown",
   "metadata": {},
   "source": [
    "### 2. Read data"
   ]
  },
  {
   "cell_type": "markdown",
   "metadata": {},
   "source": [
    "#### 2.1 Import Python packages"
   ]
  },
  {
   "cell_type": "code",
   "execution_count": 269,
   "metadata": {},
   "outputs": [
    {
     "name": "stdout",
     "output_type": "stream",
     "text": [
      "The autoreload extension is already loaded. To reload it, use:\n",
      "  %reload_ext autoreload\n"
     ]
    }
   ],
   "source": [
    "import pandas as pd\n",
    "import numpy as np\n",
    "import matplotlib.pyplot as plt\n",
    "import datetime\n",
    "import seaborn as sns\n",
    "import numpy as np\n",
    "\n",
    "import src.data_visualization as dv\n",
    "import src.eda as eda\n",
    "from src.paths import DATA\n",
    "\n",
    "%matplotlib inline\n",
    "plt.style.use('bmh')\n",
    "\n",
    "%load_ext autoreload\n",
    "%autoreload 2"
   ]
  },
  {
   "cell_type": "code",
   "execution_count": 270,
   "metadata": {},
   "outputs": [],
   "source": [
    "dtypes = {'ID': str}\n",
    "columns = ['ID', 'Education', 'Marital_Status', 'Income', 'Kidhome','Teenhome', 'Recency', 'MntWines', 'MntFruits',\n",
    "       'MntMeatProducts', 'MntFishProducts', 'MntSweetProducts', 'MntGoldProds', 'NumDealsPurchases', 'NumWebPurchases',\n",
    "       'NumCatalogPurchases', 'NumStorePurchases', 'NumWebVisitsMonth','Complain', 'Age', 'MntTotal', 'NumTotalPurchases',\n",
    "       'AcceptedTotalFirstFiveCmps', 'AcceptedTotalFirstFiveCmpsMorePilot', 'TotalYearAfterRegistration', 'TotalChildren']\n",
    "\n",
    "df = pd.read_csv(DATA / 'ml_project1_data_pre_processed.csv', dtype=dtypes, usecols=columns)"
   ]
  },
  {
   "cell_type": "markdown",
   "metadata": {},
   "source": [
    "#### 2.2 Sample data"
   ]
  },
  {
   "cell_type": "code",
   "execution_count": 271,
   "metadata": {},
   "outputs": [
    {
     "data": {
      "text/html": [
       "<div>\n",
       "<style scoped>\n",
       "    .dataframe tbody tr th:only-of-type {\n",
       "        vertical-align: middle;\n",
       "    }\n",
       "\n",
       "    .dataframe tbody tr th {\n",
       "        vertical-align: top;\n",
       "    }\n",
       "\n",
       "    .dataframe thead th {\n",
       "        text-align: right;\n",
       "    }\n",
       "</style>\n",
       "<table border=\"1\" class=\"dataframe\">\n",
       "  <thead>\n",
       "    <tr style=\"text-align: right;\">\n",
       "      <th></th>\n",
       "      <th>ID</th>\n",
       "      <th>Education</th>\n",
       "      <th>Marital_Status</th>\n",
       "      <th>Income</th>\n",
       "      <th>Kidhome</th>\n",
       "      <th>Teenhome</th>\n",
       "      <th>Recency</th>\n",
       "      <th>MntWines</th>\n",
       "      <th>MntFruits</th>\n",
       "      <th>MntMeatProducts</th>\n",
       "      <th>...</th>\n",
       "      <th>NumStorePurchases</th>\n",
       "      <th>NumWebVisitsMonth</th>\n",
       "      <th>Complain</th>\n",
       "      <th>Age</th>\n",
       "      <th>MntTotal</th>\n",
       "      <th>NumTotalPurchases</th>\n",
       "      <th>AcceptedTotalFirstFiveCmps</th>\n",
       "      <th>AcceptedTotalFirstFiveCmpsMorePilot</th>\n",
       "      <th>TotalYearAfterRegistration</th>\n",
       "      <th>TotalChildren</th>\n",
       "    </tr>\n",
       "  </thead>\n",
       "  <tbody>\n",
       "    <tr>\n",
       "      <th>1247</th>\n",
       "      <td>8534</td>\n",
       "      <td>Graduation</td>\n",
       "      <td>Married</td>\n",
       "      <td>67433.0</td>\n",
       "      <td>0</td>\n",
       "      <td>2</td>\n",
       "      <td>51</td>\n",
       "      <td>615</td>\n",
       "      <td>28</td>\n",
       "      <td>259</td>\n",
       "      <td>...</td>\n",
       "      <td>13</td>\n",
       "      <td>4</td>\n",
       "      <td>False</td>\n",
       "      <td>68</td>\n",
       "      <td>962</td>\n",
       "      <td>24</td>\n",
       "      <td>1</td>\n",
       "      <td>1</td>\n",
       "      <td>7</td>\n",
       "      <td>2</td>\n",
       "    </tr>\n",
       "    <tr>\n",
       "      <th>760</th>\n",
       "      <td>6887</td>\n",
       "      <td>Graduation</td>\n",
       "      <td>Single</td>\n",
       "      <td>79146.0</td>\n",
       "      <td>1</td>\n",
       "      <td>1</td>\n",
       "      <td>33</td>\n",
       "      <td>245</td>\n",
       "      <td>16</td>\n",
       "      <td>223</td>\n",
       "      <td>...</td>\n",
       "      <td>8</td>\n",
       "      <td>6</td>\n",
       "      <td>False</td>\n",
       "      <td>53</td>\n",
       "      <td>548</td>\n",
       "      <td>17</td>\n",
       "      <td>0</td>\n",
       "      <td>0</td>\n",
       "      <td>6</td>\n",
       "      <td>2</td>\n",
       "    </tr>\n",
       "    <tr>\n",
       "      <th>439</th>\n",
       "      <td>456</td>\n",
       "      <td>2n Cycle</td>\n",
       "      <td>Married</td>\n",
       "      <td>7500.0</td>\n",
       "      <td>1</td>\n",
       "      <td>0</td>\n",
       "      <td>96</td>\n",
       "      <td>1</td>\n",
       "      <td>11</td>\n",
       "      <td>5</td>\n",
       "      <td>...</td>\n",
       "      <td>3</td>\n",
       "      <td>8</td>\n",
       "      <td>False</td>\n",
       "      <td>34</td>\n",
       "      <td>27</td>\n",
       "      <td>5</td>\n",
       "      <td>0</td>\n",
       "      <td>0</td>\n",
       "      <td>7</td>\n",
       "      <td>1</td>\n",
       "    </tr>\n",
       "    <tr>\n",
       "      <th>64</th>\n",
       "      <td>4137</td>\n",
       "      <td>Graduation</td>\n",
       "      <td>Together</td>\n",
       "      <td>70666.0</td>\n",
       "      <td>0</td>\n",
       "      <td>0</td>\n",
       "      <td>29</td>\n",
       "      <td>398</td>\n",
       "      <td>40</td>\n",
       "      <td>367</td>\n",
       "      <td>...</td>\n",
       "      <td>4</td>\n",
       "      <td>4</td>\n",
       "      <td>False</td>\n",
       "      <td>72</td>\n",
       "      <td>1046</td>\n",
       "      <td>15</td>\n",
       "      <td>0</td>\n",
       "      <td>0</td>\n",
       "      <td>7</td>\n",
       "      <td>0</td>\n",
       "    </tr>\n",
       "    <tr>\n",
       "      <th>1816</th>\n",
       "      <td>5684</td>\n",
       "      <td>Master</td>\n",
       "      <td>Divorced</td>\n",
       "      <td>44635.0</td>\n",
       "      <td>1</td>\n",
       "      <td>1</td>\n",
       "      <td>25</td>\n",
       "      <td>56</td>\n",
       "      <td>0</td>\n",
       "      <td>9</td>\n",
       "      <td>...</td>\n",
       "      <td>3</td>\n",
       "      <td>7</td>\n",
       "      <td>False</td>\n",
       "      <td>49</td>\n",
       "      <td>65</td>\n",
       "      <td>5</td>\n",
       "      <td>0</td>\n",
       "      <td>0</td>\n",
       "      <td>7</td>\n",
       "      <td>2</td>\n",
       "    </tr>\n",
       "  </tbody>\n",
       "</table>\n",
       "<p>5 rows × 26 columns</p>\n",
       "</div>"
      ],
      "text/plain": [
       "        ID   Education Marital_Status   Income  Kidhome  Teenhome  Recency  \\\n",
       "1247  8534  Graduation        Married  67433.0        0         2       51   \n",
       "760   6887  Graduation         Single  79146.0        1         1       33   \n",
       "439    456    2n Cycle        Married   7500.0        1         0       96   \n",
       "64    4137  Graduation       Together  70666.0        0         0       29   \n",
       "1816  5684      Master       Divorced  44635.0        1         1       25   \n",
       "\n",
       "      MntWines  MntFruits  MntMeatProducts      ...        NumStorePurchases  \\\n",
       "1247       615         28              259      ...                       13   \n",
       "760        245         16              223      ...                        8   \n",
       "439          1         11                5      ...                        3   \n",
       "64         398         40              367      ...                        4   \n",
       "1816        56          0                9      ...                        3   \n",
       "\n",
       "      NumWebVisitsMonth  Complain  Age  MntTotal  NumTotalPurchases  \\\n",
       "1247                  4     False   68       962                 24   \n",
       "760                   6     False   53       548                 17   \n",
       "439                   8     False   34        27                  5   \n",
       "64                    4     False   72      1046                 15   \n",
       "1816                  7     False   49        65                  5   \n",
       "\n",
       "      AcceptedTotalFirstFiveCmps  AcceptedTotalFirstFiveCmpsMorePilot  \\\n",
       "1247                           1                                    1   \n",
       "760                            0                                    0   \n",
       "439                            0                                    0   \n",
       "64                             0                                    0   \n",
       "1816                           0                                    0   \n",
       "\n",
       "      TotalYearAfterRegistration  TotalChildren  \n",
       "1247                           7              2  \n",
       "760                            6              2  \n",
       "439                            7              1  \n",
       "64                             7              0  \n",
       "1816                           7              2  \n",
       "\n",
       "[5 rows x 26 columns]"
      ]
     },
     "execution_count": 271,
     "metadata": {},
     "output_type": "execute_result"
    }
   ],
   "source": [
    "df.sample(5)"
   ]
  },
  {
   "cell_type": "markdown",
   "metadata": {},
   "source": [
    "### 3. Who are our customers or who are our principal customers (majority)?"
   ]
  },
  {
   "cell_type": "markdown",
   "metadata": {},
   "source": [
    "#### Age"
   ]
  },
  {
   "cell_type": "code",
   "execution_count": 272,
   "metadata": {},
   "outputs": [
    {
     "data": {
      "text/plain": [
       "count    2230.000000\n",
       "mean       51.100448\n",
       "std        11.701259\n",
       "min        24.000000\n",
       "25%        43.000000\n",
       "50%        50.000000\n",
       "75%        61.000000\n",
       "max        80.000000\n",
       "Name: Age, dtype: float64"
      ]
     },
     "execution_count": 272,
     "metadata": {},
     "output_type": "execute_result"
    },
    {
     "data": {
      "image/png": "[encoded data removed]",
      "text/plain": [
       "<Figure size 432x288 with 1 Axes>"
      ]
     },
     "metadata": {
      "needs_background": "light"
     },
     "output_type": "display_data"
    }
   ],
   "source": [
    "df.query(\"Age < 115\")['Age'].hist()\n",
    "df.query(\"Age < 115\")['Age'].describe()"
   ]
  },
  {
   "cell_type": "markdown",
   "metadata": {},
   "source": [
    "75% of our customers are more than 43 years old. Most are middle aged."
   ]
  },
  {
   "cell_type": "markdown",
   "metadata": {},
   "source": [
    "#### Education"
   ]
  },
  {
   "cell_type": "code",
   "execution_count": 273,
   "metadata": {},
   "outputs": [
    {
     "data": {
      "image/png": "[encoded data removed]",
      "text/plain": [
       "<Figure size 576x180 with 2 Axes>"
      ]
     },
     "metadata": {
      "needs_background": "light"
     },
     "output_type": "display_data"
    }
   ],
   "source": [
    "dv.qty_and_percentage(df, 'Education')"
   ]
  },
  {
   "cell_type": "markdown",
   "metadata": {},
   "source": [
    "Is possible to see that our customers are principaly graduated and post graduated (more than 85%). Are more qualified customers."
   ]
  },
  {
   "cell_type": "markdown",
   "metadata": {},
   "source": [
    "#### Marital_Status"
   ]
  },
  {
   "cell_type": "code",
   "execution_count": 274,
   "metadata": {},
   "outputs": [
    {
     "data": {
      "image/png": "[encoded data removed]",
      "text/plain": [
       "<Figure size 576x180 with 2 Axes>"
      ]
     },
     "metadata": {
      "needs_background": "light"
     },
     "output_type": "display_data"
    }
   ],
   "source": [
    "dv.qty_and_percentage(df, 'Marital_Status')"
   ]
  },
  {
   "cell_type": "markdown",
   "metadata": {},
   "source": [
    "Most of our customers are married or together."
   ]
  },
  {
   "cell_type": "markdown",
   "metadata": {},
   "source": [
    "#### Kidhome"
   ]
  },
  {
   "cell_type": "code",
   "execution_count": 275,
   "metadata": {},
   "outputs": [
    {
     "data": {
      "image/png": "[encoded data removed]",
      "text/plain": [
       "<Figure size 576x180 with 2 Axes>"
      ]
     },
     "metadata": {
      "needs_background": "light"
     },
     "output_type": "display_data"
    }
   ],
   "source": [
    "dv.qty_and_percentage(df, 'Kidhome', rotation=0)"
   ]
  },
  {
   "cell_type": "markdown",
   "metadata": {},
   "source": [
    "#### Teenhome"
   ]
  },
  {
   "cell_type": "code",
   "execution_count": 276,
   "metadata": {},
   "outputs": [
    {
     "data": {
      "image/png": "[encoded data removed]",
      "text/plain": [
       "<Figure size 576x180 with 2 Axes>"
      ]
     },
     "metadata": {
      "needs_background": "light"
     },
     "output_type": "display_data"
    }
   ],
   "source": [
    "dv.qty_and_percentage(df, 'Teenhome', rotation=0)"
   ]
  },
  {
   "cell_type": "markdown",
   "metadata": {},
   "source": [
    "#### Total children"
   ]
  },
  {
   "cell_type": "code",
   "execution_count": 277,
   "metadata": {},
   "outputs": [
    {
     "data": {
      "image/png": "[encoded data removed]",
      "text/plain": [
       "<Figure size 576x180 with 2 Axes>"
      ]
     },
     "metadata": {
      "needs_background": "light"
     },
     "output_type": "display_data"
    }
   ],
   "source": [
    "dv.qty_and_percentage(df, 'TotalChildren', rotation=0)"
   ]
  },
  {
   "cell_type": "markdown",
   "metadata": {},
   "source": [
    "Most of our customers have more than 1 children (more than 70%)."
   ]
  },
  {
   "cell_type": "markdown",
   "metadata": {},
   "source": [
    "#### Complain"
   ]
  },
  {
   "cell_type": "code",
   "execution_count": 278,
   "metadata": {},
   "outputs": [
    {
     "data": {
      "image/png": "[encoded data removed]",
      "text/plain": [
       "<Figure size 576x180 with 2 Axes>"
      ]
     },
     "metadata": {
      "needs_background": "light"
     },
     "output_type": "display_data"
    }
   ],
   "source": [
    "dv.qty_and_percentage(df, 'Complain', rotation=0)"
   ]
  },
  {
   "cell_type": "markdown",
   "metadata": {},
   "source": [
    "The majority of our customers have not complained in the past two years."
   ]
  },
  {
   "cell_type": "markdown",
   "metadata": {},
   "source": [
    "#### Income"
   ]
  },
  {
   "cell_type": "code",
   "execution_count": 279,
   "metadata": {},
   "outputs": [],
   "source": [
    "income_not_null_values = df[df['Income'].notnull()]['Income']"
   ]
  },
  {
   "cell_type": "code",
   "execution_count": 280,
   "metadata": {},
   "outputs": [
    {
     "data": {
      "text/plain": [
       "count      2209.000000\n",
       "mean      52262.071978\n",
       "std       24917.065825\n",
       "min        2447.000000\n",
       "25%       35416.000000\n",
       "50%       51411.000000\n",
       "75%       68487.000000\n",
       "max      666666.000000\n",
       "Name: Income, dtype: float64"
      ]
     },
     "execution_count": 280,
     "metadata": {},
     "output_type": "execute_result"
    },
    {
     "data": {
      "image/png": "[encoded data removed]",
      "text/plain": [
       "<Figure size 432x288 with 1 Axes>"
      ]
     },
     "metadata": {
      "needs_background": "light"
     },
     "output_type": "display_data"
    }
   ],
   "source": [
    "sns.boxplot(x=income_not_null_values)\n",
    "income_not_null_values.describe()"
   ]
  },
  {
   "cell_type": "markdown",
   "metadata": {},
   "source": [
    "75% of customers have an income below '$'69000. But, there are some outliers."
   ]
  },
  {
   "cell_type": "markdown",
   "metadata": {},
   "source": [
    "If we check how many customers have an income greater than upper bound (iqr method), we will see that there are few (just 6):"
   ]
  },
  {
   "cell_type": "code",
   "execution_count": 281,
   "metadata": {},
   "outputs": [
    {
     "data": {
      "text/plain": [
       "164     157243.0\n",
       "617     162397.0\n",
       "686     160803.0\n",
       "1296    157733.0\n",
       "1648    157146.0\n",
       "2226    666666.0\n",
       "Name: Income, dtype: float64"
      ]
     },
     "execution_count": 281,
     "metadata": {},
     "output_type": "execute_result"
    }
   ],
   "source": [
    "q1, q3 = np.percentile(income_not_null_values, [25,75])\n",
    "iqr = q3 - q1\n",
    "lower_bound = q1 -(1.5 * iqr) \n",
    "upper_bound = q3 +(1.5 * iqr)\n",
    "\n",
    "df.query(f'Income > {upper_bound}')['Income']"
   ]
  },
  {
   "cell_type": "markdown",
   "metadata": {},
   "source": [
    "Let's remove this customers and check again if there are some outliers."
   ]
  },
  {
   "cell_type": "code",
   "execution_count": 282,
   "metadata": {},
   "outputs": [
    {
     "data": {
      "text/plain": [
       "count      2203.000000\n",
       "mean      51740.775760\n",
       "std       20614.006076\n",
       "min        2447.000000\n",
       "25%       35364.000000\n",
       "50%       51369.000000\n",
       "75%       68334.000000\n",
       "max      113734.000000\n",
       "Name: Income, dtype: float64"
      ]
     },
     "execution_count": 282,
     "metadata": {},
     "output_type": "execute_result"
    },
    {
     "data": {
      "image/png": "[encoded data removed]",
      "text/plain": [
       "<Figure size 432x288 with 1 Axes>"
      ]
     },
     "metadata": {
      "needs_background": "light"
     },
     "output_type": "display_data"
    }
   ],
   "source": [
    "income_outliers_removed = income_not_null_values[income_not_null_values < upper_bound]\n",
    "\n",
    "sns.boxplot(x=income_outliers_removed)\n",
    "income_outliers_removed.describe()"
   ]
  },
  {
   "cell_type": "markdown",
   "metadata": {},
   "source": [
    "Great. The outliers are removed. Our customers have a mean Income of ~$52000."
   ]
  },
  {
   "cell_type": "markdown",
   "metadata": {},
   "source": [
    "#### Number of purchases"
   ]
  },
  {
   "cell_type": "code",
   "execution_count": 283,
   "metadata": {},
   "outputs": [
    {
     "name": "stdout",
     "output_type": "stream",
     "text": [
      "28082\n"
     ]
    },
    {
     "data": {
      "text/plain": [
       "count    2233.000000\n",
       "mean       12.575907\n",
       "std         7.183444\n",
       "min         1.000000\n",
       "25%         6.000000\n",
       "50%        12.000000\n",
       "75%        18.000000\n",
       "max        32.000000\n",
       "Name: NumTotalPurchases, dtype: float64"
      ]
     },
     "execution_count": 283,
     "metadata": {},
     "output_type": "execute_result"
    },
    {
     "data": {
      "image/png": "[encoded data removed]",
      "text/plain": [
       "<Figure size 432x288 with 1 Axes>"
      ]
     },
     "metadata": {
      "needs_background": "light"
     },
     "output_type": "display_data"
    }
   ],
   "source": [
    "sns.boxplot(x=df['NumTotalPurchases'])\n",
    "print(df['NumTotalPurchases'].sum())\n",
    "df['NumTotalPurchases'].describe()"
   ]
  },
  {
   "cell_type": "markdown",
   "metadata": {},
   "source": [
    "In the last two yeras, were 28 thousand purchases (in this sample of customers). The average purchase by customer is around 12,5. Almost one purchase every two months, if we look by channel, the number decreases.\n",
    "But, there are some customers who bought more than 50% of the overall average (over 18 purchases). In another moment we can analyze who they are and what their characteristics are."
   ]
  },
  {
   "cell_type": "markdown",
   "metadata": {},
   "source": [
    "####  Numeber of purchases by channel"
   ]
  },
  {
   "cell_type": "code",
   "execution_count": 330,
   "metadata": {},
   "outputs": [],
   "source": [
    "num_purchases_by_channel = pd.DataFrame(df[['NumCatalogPurchases', 'NumStorePurchases', 'NumWebPurchases']].sum(), columns=['NumPurchases'])\n",
    "bought_at_least_once_channels = pd.DataFrame(df[['NumCatalogPurchases', 'NumStorePurchases', 'NumWebPurchases']].applymap(lambda x: 1 if x > 0 else 0).sum(), columns=['BoughtAtLeastOnce'])"
   ]
  },
  {
   "cell_type": "markdown",
   "metadata": {},
   "source": [
    "##### Bought at least once"
   ]
  },
  {
   "cell_type": "code",
   "execution_count": 285,
   "metadata": {},
   "outputs": [
    {
     "data": {
      "text/html": [
       "<div>\n",
       "<style scoped>\n",
       "    .dataframe tbody tr th:only-of-type {\n",
       "        vertical-align: middle;\n",
       "    }\n",
       "\n",
       "    .dataframe tbody tr th {\n",
       "        vertical-align: top;\n",
       "    }\n",
       "\n",
       "    .dataframe thead th {\n",
       "        text-align: right;\n",
       "    }\n",
       "</style>\n",
       "<table border=\"1\" class=\"dataframe\">\n",
       "  <thead>\n",
       "    <tr style=\"text-align: right;\">\n",
       "      <th></th>\n",
       "      <th>BoughtAtLeastOnce</th>\n",
       "      <th>Perc</th>\n",
       "    </tr>\n",
       "  </thead>\n",
       "  <tbody>\n",
       "    <tr>\n",
       "      <th>NumCatalogPurchases</th>\n",
       "      <td>1653</td>\n",
       "      <td>74.03</td>\n",
       "    </tr>\n",
       "    <tr>\n",
       "      <th>NumStorePurchases</th>\n",
       "      <td>2225</td>\n",
       "      <td>99.64</td>\n",
       "    </tr>\n",
       "    <tr>\n",
       "      <th>NumWebPurchases</th>\n",
       "      <td>2191</td>\n",
       "      <td>98.12</td>\n",
       "    </tr>\n",
       "  </tbody>\n",
       "</table>\n",
       "</div>"
      ],
      "text/plain": [
       "                     BoughtAtLeastOnce   Perc\n",
       "NumCatalogPurchases               1653  74.03\n",
       "NumStorePurchases                 2225  99.64\n",
       "NumWebPurchases                   2191  98.12"
      ]
     },
     "execution_count": 285,
     "metadata": {},
     "output_type": "execute_result"
    }
   ],
   "source": [
    "bought_at_least_once_channels.assign(Perc = np.multiply(bought_at_least_once_channels['BoughtAtLeastOnce'] / df['NumTotalPurchases'].count(), 100).round(2))"
   ]
  },
  {
   "cell_type": "markdown",
   "metadata": {},
   "source": [
    "If we observe, almost all customers have already purchased at the store or on the web. But, there are about 26% that did not buy by catalog."
   ]
  },
  {
   "cell_type": "markdown",
   "metadata": {},
   "source": [
    "##### Frequency"
   ]
  },
  {
   "cell_type": "code",
   "execution_count": 331,
   "metadata": {},
   "outputs": [
    {
     "data": {
      "text/html": [
       "<div>\n",
       "<style scoped>\n",
       "    .dataframe tbody tr th:only-of-type {\n",
       "        vertical-align: middle;\n",
       "    }\n",
       "\n",
       "    .dataframe tbody tr th {\n",
       "        vertical-align: top;\n",
       "    }\n",
       "\n",
       "    .dataframe thead th {\n",
       "        text-align: right;\n",
       "    }\n",
       "</style>\n",
       "<table border=\"1\" class=\"dataframe\">\n",
       "  <thead>\n",
       "    <tr style=\"text-align: right;\">\n",
       "      <th></th>\n",
       "      <th>NumPurchases</th>\n",
       "      <th>Perc</th>\n",
       "    </tr>\n",
       "  </thead>\n",
       "  <tbody>\n",
       "    <tr>\n",
       "      <th>NumCatalogPurchases</th>\n",
       "      <td>5962</td>\n",
       "      <td>21.23</td>\n",
       "    </tr>\n",
       "    <tr>\n",
       "      <th>NumStorePurchases</th>\n",
       "      <td>12970</td>\n",
       "      <td>46.19</td>\n",
       "    </tr>\n",
       "    <tr>\n",
       "      <th>NumWebPurchases</th>\n",
       "      <td>9150</td>\n",
       "      <td>32.58</td>\n",
       "    </tr>\n",
       "  </tbody>\n",
       "</table>\n",
       "</div>"
      ],
      "text/plain": [
       "                     NumPurchases   Perc\n",
       "NumCatalogPurchases          5962  21.23\n",
       "NumStorePurchases           12970  46.19\n",
       "NumWebPurchases              9150  32.58"
      ]
     },
     "execution_count": 331,
     "metadata": {},
     "output_type": "execute_result"
    },
    {
     "data": {
      "image/png": "[encoded data removed]",
      "text/plain": [
       "<Figure size 432x288 with 1 Axes>"
      ]
     },
     "metadata": {
      "needs_background": "light"
     },
     "output_type": "display_data"
    }
   ],
   "source": [
    "data = df[['ID','NumCatalogPurchases', 'NumStorePurchases', 'NumWebPurchases']].melt('ID', var_name= 'channel', value_name='NumPurchases',)\n",
    "sns.boxplot(data=data, x='channel', y='NumPurchases')\n",
    "num_purchases_by_channel.assign(Perc = np.multiply(num_purchases_by_channel['NumPurchases'] / num_purchases_by_channel['NumPurchases'].sum(), 100).round(2))"
   ]
  },
  {
   "cell_type": "markdown",
   "metadata": {},
   "source": [
    "The frequency of amount by channel shows that our customers buy more in the store or on the website, manily store."
   ]
  },
  {
   "cell_type": "markdown",
   "metadata": {},
   "source": [
    "##### Frequency by customer and by month"
   ]
  },
  {
   "cell_type": "code",
   "execution_count": 332,
   "metadata": {},
   "outputs": [
    {
     "data": {
      "text/html": [
       "<div>\n",
       "<style scoped>\n",
       "    .dataframe tbody tr th:only-of-type {\n",
       "        vertical-align: middle;\n",
       "    }\n",
       "\n",
       "    .dataframe tbody tr th {\n",
       "        vertical-align: top;\n",
       "    }\n",
       "\n",
       "    .dataframe thead th {\n",
       "        text-align: right;\n",
       "    }\n",
       "</style>\n",
       "<table border=\"1\" class=\"dataframe\">\n",
       "  <thead>\n",
       "    <tr style=\"text-align: right;\">\n",
       "      <th></th>\n",
       "      <th>NumPurchases</th>\n",
       "      <th>OnePurchaseEveryNMonths</th>\n",
       "    </tr>\n",
       "  </thead>\n",
       "  <tbody>\n",
       "    <tr>\n",
       "      <th>NumCatalogPurchases</th>\n",
       "      <td>2.67</td>\n",
       "      <td>8.99</td>\n",
       "    </tr>\n",
       "    <tr>\n",
       "      <th>NumStorePurchases</th>\n",
       "      <td>5.81</td>\n",
       "      <td>4.13</td>\n",
       "    </tr>\n",
       "    <tr>\n",
       "      <th>NumWebPurchases</th>\n",
       "      <td>4.10</td>\n",
       "      <td>5.85</td>\n",
       "    </tr>\n",
       "    <tr>\n",
       "      <th>Total</th>\n",
       "      <td>12.58</td>\n",
       "      <td>1.91</td>\n",
       "    </tr>\n",
       "  </tbody>\n",
       "</table>\n",
       "</div>"
      ],
      "text/plain": [
       "                     NumPurchases  OnePurchaseEveryNMonths\n",
       "NumCatalogPurchases          2.67                     8.99\n",
       "NumStorePurchases            5.81                     4.13\n",
       "NumWebPurchases              4.10                     5.85\n",
       "Total                       12.58                     1.91"
      ]
     },
     "execution_count": 332,
     "metadata": {},
     "output_type": "execute_result"
    }
   ],
   "source": [
    "average_purchase_by_channel = (num_purchases_by_channel / df['ID'].count()).round(2)\n",
    "#Added total\n",
    "average_purchase_by_channel = pd.concat([average_purchase_by_channel, pd.DataFrame(average_purchase_by_channel.sum(), columns=['Total']).T])\n",
    "average_purchase_by_channel.assign(OnePurchaseEveryNMonths = average_purchase_by_channel['NumPurchases'].apply(eda.OnePurchaseEveryNMonths))"
   ]
  },
  {
   "cell_type": "markdown",
   "metadata": {},
   "source": [
    "In the last two years, our consumers bought every two months, the best frequency being the store.\n",
    "**How could we improve the frequency of purchase?**"
   ]
  },
  {
   "cell_type": "markdown",
   "metadata": {},
   "source": [
    "#### Deals purchases"
   ]
  },
  {
   "cell_type": "code",
   "execution_count": 296,
   "metadata": {},
   "outputs": [
    {
     "data": {
      "text/plain": [
       "97.81"
      ]
     },
     "execution_count": 296,
     "metadata": {},
     "output_type": "execute_result"
    }
   ],
   "source": [
    "np.multiply((df[df['NumDealsPurchases']>0]['NumDealsPurchases'].count() / 2240), 100).round(2)"
   ]
  },
  {
   "cell_type": "markdown",
   "metadata": {},
   "source": [
    "Almost all customers have already purchased at least once at a discount."
   ]
  },
  {
   "cell_type": "code",
   "execution_count": 303,
   "metadata": {},
   "outputs": [
    {
     "data": {
      "text/plain": [
       "count    2233.000000\n",
       "mean        0.241357\n",
       "std         0.172430\n",
       "min         0.000000\n",
       "25%         0.083333\n",
       "50%         0.200000\n",
       "75%         0.333333\n",
       "max         1.000000\n",
       "dtype: float64"
      ]
     },
     "execution_count": 303,
     "metadata": {},
     "output_type": "execute_result"
    },
    {
     "data": {
      "image/png": "[encoded data removed]",
      "text/plain": [
       "<Figure size 432x288 with 1 Axes>"
      ]
     },
     "metadata": {
      "needs_background": "light"
     },
     "output_type": "display_data"
    }
   ],
   "source": [
    "sns.boxplot(x=(df['NumDealsPurchases'] / df['NumTotalPurchases']))\n",
    "(df['NumDealsPurchases'] / df['NumTotalPurchases']).describe()"
   ]
  },
  {
   "cell_type": "markdown",
   "metadata": {},
   "source": [
    "Of all purchases made by these customers in the last two years, on average 24% were discounted purchases (considering outliers). Apparently, we don't give much discount."
   ]
  },
  {
   "cell_type": "code",
   "execution_count": 311,
   "metadata": {},
   "outputs": [
    {
     "data": {
      "text/plain": [
       "Text(0.5,0,'percentage of discounted purchases')"
      ]
     },
     "execution_count": 311,
     "metadata": {},
     "output_type": "execute_result"
    },
    {
     "data": {
      "image/png": "[encoded data removed]",
      "text/plain": [
       "<Figure size 432x288 with 1 Axes>"
      ]
     },
     "metadata": {
      "needs_background": "light"
     },
     "output_type": "display_data"
    }
   ],
   "source": [
    "sns.scatterplot(x=df['NumDealsPurchases'] / df['NumTotalPurchases'], y=df['NumTotalPurchases']); plt.xlabel('percentage of discounted purchases')"
   ]
  },
  {
   "cell_type": "markdown",
   "metadata": {},
   "source": [
    "Apparently, the amount of discount has nothing to do with the amount of purchases. That is, it is not the one who buys more that receives the most discount. Perhaps the discount is related to the product or channel."
   ]
  },
  {
   "cell_type": "markdown",
   "metadata": {},
   "source": [
    "#### Visits website last month"
   ]
  },
  {
   "cell_type": "code",
   "execution_count": 291,
   "metadata": {},
   "outputs": [
    {
     "data": {
      "text/plain": [
       "[2224, 99.6]"
      ]
     },
     "execution_count": 291,
     "metadata": {},
     "output_type": "execute_result"
    }
   ],
   "source": [
    "bought_at_least_once_WebVisits = df['NumWebVisitsMonth'].apply(lambda x: 1 if x > 0 else 0).sum()\n",
    "[bought_at_least_once_WebVisits, (bought_at_least_once_WebVisits / df['NumWebVisitsMonth'].count() * 100).round(1)]"
   ]
  },
  {
   "cell_type": "markdown",
   "metadata": {},
   "source": [
    "Of total customers (2240), more than 99% accessed the site at least once in the last month. "
   ]
  },
  {
   "cell_type": "code",
   "execution_count": 300,
   "metadata": {},
   "outputs": [
    {
     "data": {
      "text/plain": [
       "count    2233.000000\n",
       "mean        5.294671\n",
       "std         2.355702\n",
       "min         0.000000\n",
       "25%         3.000000\n",
       "50%         6.000000\n",
       "75%         7.000000\n",
       "max        20.000000\n",
       "Name: NumWebVisitsMonth, dtype: float64"
      ]
     },
     "execution_count": 300,
     "metadata": {},
     "output_type": "execute_result"
    },
    {
     "data": {
      "image/png": "[encoded data removed]",
      "text/plain": [
       "<Figure size 432x288 with 1 Axes>"
      ]
     },
     "metadata": {
      "needs_background": "light"
     },
     "output_type": "display_data"
    }
   ],
   "source": [
    "sns.boxplot(x=df['NumWebVisitsMonth'])\n",
    "df['NumWebVisitsMonth'].describe()"
   ]
  },
  {
   "cell_type": "markdown",
   "metadata": {},
   "source": [
    "In addition to the good number of customers accessing the site, the average access is around 5. In another notebook we will analyze better how the website is performing."
   ]
  },
  {
   "cell_type": "markdown",
   "metadata": {},
   "source": [
    "#### Amount spent"
   ]
  },
  {
   "cell_type": "code",
   "execution_count": 293,
   "metadata": {},
   "outputs": [
    {
     "data": {
      "text/plain": [
       "count    2233.000000\n",
       "mean      563.442454\n",
       "std       576.737608\n",
       "min         6.000000\n",
       "25%        56.000000\n",
       "50%       343.000000\n",
       "75%       964.000000\n",
       "max      2491.000000\n",
       "Name: MntTotal, dtype: float64"
      ]
     },
     "execution_count": 293,
     "metadata": {},
     "output_type": "execute_result"
    },
    {
     "data": {
      "image/png": "[encoded data removed]",
      "text/plain": [
       "<Figure size 432x288 with 1 Axes>"
      ]
     },
     "metadata": {
      "needs_background": "light"
     },
     "output_type": "display_data"
    }
   ],
   "source": [
    "df['MntTotal'].hist()\n",
    "df['MntTotal'].describe()"
   ]
  },
  {
   "cell_type": "markdown",
   "metadata": {},
   "source": [
    "The average spent per customer in the last two years is around 576. There are few outliers, and removing them, the average and median do not change much.\n",
    "\n",
    "But what stands out is that a good portion of customers have spent less than 500 in the past two years. More precisely, 50% spent less than $ 378\n",
    "\n",
    "and 75% spent less $ 1000 in the last two years."
   ]
  },
  {
   "cell_type": "code",
   "execution_count": 333,
   "metadata": {},
   "outputs": [
    {
     "data": {
      "text/plain": [
       "(3.515, 130.25]      37.48\n",
       "(130.25, 254.5]       7.03\n",
       "(254.5, 378.75]       7.03\n",
       "(378.75, 503.0]       6.40\n",
       "(503.0, 627.25]       4.16\n",
       "(627.25, 751.5]       3.76\n",
       "(751.5, 875.75]       4.84\n",
       "(875.75, 1000.0]      5.46\n",
       "(1000.0, 1124.25]     4.66\n",
       "(1124.25, 1248.5]     3.85\n",
       "(1248.5, 1372.75]     3.36\n",
       "(1372.75, 1497.0]     2.78\n",
       "(1497.0, 1621.25]     2.64\n",
       "(1621.25, 1745.5]     2.28\n",
       "(1745.5, 1869.75]     1.21\n",
       "(1869.75, 1994.0]     1.57\n",
       "(1994.0, 2118.25]     0.81\n",
       "(2118.25, 2242.5]     0.36\n",
       "(2242.5, 2366.75]     0.18\n",
       "(2366.75, 2491.0]     0.13\n",
       "Name: MntTotal, dtype: float64"
      ]
     },
     "execution_count": 333,
     "metadata": {},
     "output_type": "execute_result"
    }
   ],
   "source": [
    "amount_spend_class = pd.cut(df['MntTotal'], 20)\n",
    "amount_spend_class.value_counts(normalize=True, sort=False).multiply(100).round(2)"
   ]
  },
  {
   "cell_type": "markdown",
   "metadata": {},
   "source": [
    "Based on the answers we get, we can draw a gereal profile our customers:\n",
    "\n",
    "- They are mostly middle age customers (75% are over 43 years old)\n",
    "- 70% have at least 1 child\n",
    "- About 65% are married or live together\n",
    "- 85% are undergraduate or graduate (master or phd)\n",
    "- 75% have an average annual family income of less than 68000, with an average of 51633\n",
    "- Our customers prefer to buy in stores or through the website, mainly in stores. However, they bought every two months, the best frequency being the store. When we open by channel the numbers are bad. **How could we improve the frequency of purchase? In catalog, our customer buys once every 9 months. How much do we invest in this channel?** \n",
    "- They do not usually make complaints (more than 99% have not made any complaints in the last two years)\n",
    "- The average spend on our products in the past two years was about 560, however, 50% of them spent less than 377\n",
    "- More than 99% of our customers have accessed the site at least once in the last month\n",
    "- Regarding discounts, almost all customers have already received some discount in the past two years. On average, about 24% of all purchases received some discount. Which doesn't seem like much."
   ]
  }
 ],
 "metadata": {
  "kernelspec": {
   "display_name": "ifood-test",
   "language": "python",
   "name": "ifood-test"
  },
  "language_info": {
   "codemirror_mode": {
    "name": "ipython",
    "version": 3
   },
   "file_extension": ".py",
   "mimetype": "text/x-python",
   "name": "python",
   "nbconvert_exporter": "python",
   "pygments_lexer": "ipython3",
   "version": "3.6.5"
  }
 },
 "nbformat": 4,
 "nbformat_minor": 2
}
